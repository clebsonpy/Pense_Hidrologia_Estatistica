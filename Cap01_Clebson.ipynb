{
 "cells": [
  {
   "cell_type": "markdown",
   "metadata": {},
   "source": [
    "# Análise Exploratória dos dados(Cap1) - Pense Estatística, 2º Edição.\n",
    "\n",
    "## Universidade Federal de Alagoas - UFAL\n",
    "## Centro de Tecnologia - CTEC\n",
    "## Programa de Pós-Graduação Recursos Hídricos e Saneamento - PPGRHS\n",
    "### Disciplina de Estatística\n",
    "\n",
    "Clebson Farias"
   ]
  },
  {
   "cell_type": "code",
   "execution_count": 1,
   "metadata": {},
   "outputs": [],
   "source": [
    "from __future__ import print_function, division\n",
    "\n",
    "%matplotlib inline\n",
    "\n",
    "import numpy as np\n",
    "import pandas as pd\n",
    "\n",
    "import thinkstats2\n",
    "import thinkplot"
   ]
  },
  {
   "cell_type": "markdown",
   "metadata": {},
   "source": [
    "Informação não confirmada são baseados em dados que são inéditos e normalmente pessoais.\n",
    "\n",
    "Informações não confirmadas normalmente falha:\n",
    "\n",
    "- Pequeno número de observação;\n",
    "\n",
    "- Viés de seleção;\n",
    "\n",
    "- Viés de confirmação;\n",
    "\n",
    "- Inexatidão;"
   ]
  },
  {
   "cell_type": "markdown",
   "metadata": {},
   "source": [
    "## Uma abordagem estatística"
   ]
  },
  {
   "cell_type": "markdown",
   "metadata": {},
   "source": [
    "Ferramentas estatísticas para diminuir as anetodas:\n",
    "\n",
    "- Coleta de dados;\n",
    "\n",
    "- Estatísticas descritivas; \n",
    "\n",
    "- Análise exploratória de dados;\n",
    "\n",
    "- Estimativa;\n",
    "\n",
    "- Teste de hipóteses."
   ]
  },
  {
   "cell_type": "markdown",
   "metadata": {},
   "source": [
    "## Dados"
   ]
  },
  {
   "cell_type": "markdown",
   "metadata": {},
   "source": [
    "- **Séries de vazões naturais** (reconstituídas pela ONS);\n",
    "\n",
    "- **Séries de vazões observadas** (ANA):\n",
    "    \n",
    "    - Nome da Estação: UHE MANSO JUSANTE \n",
    "    \n",
    "    - Código: 66210000\n",
    "    \n",
    "    - Nome da Estação: FAZENDA RAIZAMA (COIMBRA)\n",
    "    \n",
    "    - Código: 66231000\n",
    "    \n",
    "- **Séries de chuvas observadas** (ANA):\n",
    "\n",
    "    - Nome da Estação: FAZENDA RAIZAMA (COIMBRA)\n",
    "    \n",
    "    - Código: 01455008\n",
    "    \n",
    "- **Séries de Evapotranspiração** (INMET):\n",
    "\n",
    "    - Estação: CUIABÁ\n",
    "    \n",
    "    - Código: 83361\n",
    "    \n",
    "    - Estação: DIAMANTINO\n",
    "    \n",
    "    - Código: 83309\n",
    "    \n",
    "    - Estação: PADRE RICARDO REMETTER\n",
    "    \n",
    "    - Código: 83364"
   ]
  },
  {
   "cell_type": "markdown",
   "metadata": {},
   "source": [
    "## Importação de dados"
   ]
  },
  {
   "cell_type": "markdown",
   "metadata": {},
   "source": [
    "![](gantt_manso_com_evap.png)"
   ]
  },
  {
   "cell_type": "code",
   "execution_count": 11,
   "metadata": {},
   "outputs": [],
   "source": [
    "dados = pd.read_csv(\"dados_com_evap_manso.csv\", index_col=0, parse_dates=True)\n",
    "date_start = pd.to_datetime(\"01/01/1982\", dayfirst=True)\n",
    "date_end = pd.to_datetime(\"31/12/1986\", dayfirst=True)"
   ]
  },
  {
   "cell_type": "markdown",
   "metadata": {},
   "source": [
    "## Variáveis"
   ]
  },
  {
   "cell_type": "markdown",
   "metadata": {},
   "source": [
    "- Pluviométrica;\n",
    "    \n",
    "- Fluviométrica;\n",
    "\n",
    "- Evaporação;"
   ]
  },
  {
   "cell_type": "markdown",
   "metadata": {},
   "source": [
    "## Transformação"
   ]
  },
  {
   "cell_type": "markdown",
   "metadata": {},
   "source": [
    "Os dados são exportados de suas fontes e com diferentes formatos. Esses foram transformados em um Pandas DataFrame."
   ]
  },
  {
   "cell_type": "code",
   "execution_count": 12,
   "metadata": {},
   "outputs": [
    {
     "data": {
      "text/html": [
       "<div>\n",
       "<style scoped>\n",
       "    .dataframe tbody tr th:only-of-type {\n",
       "        vertical-align: middle;\n",
       "    }\n",
       "\n",
       "    .dataframe tbody tr th {\n",
       "        vertical-align: top;\n",
       "    }\n",
       "\n",
       "    .dataframe thead th {\n",
       "        text-align: right;\n",
       "    }\n",
       "</style>\n",
       "<table border=\"1\" class=\"dataframe\">\n",
       "  <thead>\n",
       "    <tr style=\"text-align: right;\">\n",
       "      <th></th>\n",
       "      <th>COIMBRA_P</th>\n",
       "      <th>MANSO_JUS</th>\n",
       "      <th>COIMBRA_F</th>\n",
       "      <th>Evap_CUIABA</th>\n",
       "      <th>Evap_DIAM</th>\n",
       "      <th>Evap_RICAR</th>\n",
       "      <th>MANSO</th>\n",
       "    </tr>\n",
       "  </thead>\n",
       "  <tbody>\n",
       "    <tr>\n",
       "      <th>1982-01-01</th>\n",
       "      <td>0.0</td>\n",
       "      <td>NaN</td>\n",
       "      <td>248.865</td>\n",
       "      <td>2.3</td>\n",
       "      <td>1.2</td>\n",
       "      <td>NaN</td>\n",
       "      <td>243.0</td>\n",
       "    </tr>\n",
       "    <tr>\n",
       "      <th>1982-01-02</th>\n",
       "      <td>0.0</td>\n",
       "      <td>NaN</td>\n",
       "      <td>333.847</td>\n",
       "      <td>1.3</td>\n",
       "      <td>0.4</td>\n",
       "      <td>NaN</td>\n",
       "      <td>329.0</td>\n",
       "    </tr>\n",
       "    <tr>\n",
       "      <th>1982-01-03</th>\n",
       "      <td>0.0</td>\n",
       "      <td>NaN</td>\n",
       "      <td>295.620</td>\n",
       "      <td>2.9</td>\n",
       "      <td>1.1</td>\n",
       "      <td>NaN</td>\n",
       "      <td>290.0</td>\n",
       "    </tr>\n",
       "    <tr>\n",
       "      <th>1982-01-04</th>\n",
       "      <td>0.0</td>\n",
       "      <td>NaN</td>\n",
       "      <td>305.919</td>\n",
       "      <td>1.7</td>\n",
       "      <td>0.9</td>\n",
       "      <td>NaN</td>\n",
       "      <td>300.0</td>\n",
       "    </tr>\n",
       "    <tr>\n",
       "      <th>1982-01-05</th>\n",
       "      <td>0.0</td>\n",
       "      <td>NaN</td>\n",
       "      <td>387.954</td>\n",
       "      <td>3.7</td>\n",
       "      <td>1.9</td>\n",
       "      <td>NaN</td>\n",
       "      <td>386.0</td>\n",
       "    </tr>\n",
       "  </tbody>\n",
       "</table>\n",
       "</div>"
      ],
      "text/plain": [
       "            COIMBRA_P  MANSO_JUS  COIMBRA_F  Evap_CUIABA  Evap_DIAM  \\\n",
       "1982-01-01        0.0        NaN    248.865          2.3        1.2   \n",
       "1982-01-02        0.0        NaN    333.847          1.3        0.4   \n",
       "1982-01-03        0.0        NaN    295.620          2.9        1.1   \n",
       "1982-01-04        0.0        NaN    305.919          1.7        0.9   \n",
       "1982-01-05        0.0        NaN    387.954          3.7        1.9   \n",
       "\n",
       "            Evap_RICAR  MANSO  \n",
       "1982-01-01         NaN  243.0  \n",
       "1982-01-02         NaN  329.0  \n",
       "1982-01-03         NaN  290.0  \n",
       "1982-01-04         NaN  300.0  \n",
       "1982-01-05         NaN  386.0  "
      ]
     },
     "execution_count": 12,
     "metadata": {},
     "output_type": "execute_result"
    }
   ],
   "source": [
    "dados_.head(5)"
   ]
  }
 ],
 "metadata": {
  "kernelspec": {
   "display_name": "Python 3",
   "language": "python",
   "name": "python3"
  },
  "language_info": {
   "codemirror_mode": {
    "name": "ipython",
    "version": 3
   },
   "file_extension": ".py",
   "mimetype": "text/x-python",
   "name": "python",
   "nbconvert_exporter": "python",
   "pygments_lexer": "ipython3",
   "version": "3.6.7"
  }
 },
 "nbformat": 4,
 "nbformat_minor": 2
}

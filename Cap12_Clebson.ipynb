{
 "cells": [
  {
   "cell_type": "markdown",
   "metadata": {},
   "source": [
    "# Análise de Séries Temporais(Cap 12) - Pense Estatística, 2º Edição.\n",
    "\n",
    "## Universidade Federal de Alagoas - UFAL\n",
    "## Centro de Tecnologia - CTEC\n",
    "## Programa de Pós-Graduação Recursos Hídricos e Saneamento - PPGRHS\n",
    "### Disciplina de Estatística\n",
    "\n",
    "Clebson Farias"
   ]
  },
  {
   "cell_type": "code",
   "execution_count": 4,
   "metadata": {},
   "outputs": [],
   "source": [
    "from __future__ import print_function, division\n",
    "\n",
    "%matplotlib inline\n",
    "\n",
    "import numpy as np\n",
    "import pandas as pd\n",
    "import scipy.stats as stats\n",
    "import matplotlib.pyplot as plt\n",
    "import random\n",
    "\n",
    "import thinkstats2\n",
    "import thinkplot"
   ]
  },
  {
   "cell_type": "code",
   "execution_count": 5,
   "metadata": {},
   "outputs": [
    {
     "data": {
      "text/html": [
       "<div>\n",
       "<style scoped>\n",
       "    .dataframe tbody tr th:only-of-type {\n",
       "        vertical-align: middle;\n",
       "    }\n",
       "\n",
       "    .dataframe tbody tr th {\n",
       "        vertical-align: top;\n",
       "    }\n",
       "\n",
       "    .dataframe thead th {\n",
       "        text-align: right;\n",
       "    }\n",
       "</style>\n",
       "<table border=\"1\" class=\"dataframe\">\n",
       "  <thead>\n",
       "    <tr style=\"text-align: right;\">\n",
       "      <th></th>\n",
       "      <th>COIMBRA_P</th>\n",
       "      <th>MANSO_JUS</th>\n",
       "      <th>COIMBRA_F</th>\n",
       "      <th>Evap_CUIABA</th>\n",
       "      <th>Evap_DIAM</th>\n",
       "      <th>Evap_RICAR</th>\n",
       "      <th>MANSO</th>\n",
       "    </tr>\n",
       "  </thead>\n",
       "  <tbody>\n",
       "    <tr>\n",
       "      <th>1982-01-01</th>\n",
       "      <td>0.0</td>\n",
       "      <td>NaN</td>\n",
       "      <td>248.865</td>\n",
       "      <td>2.3</td>\n",
       "      <td>1.2</td>\n",
       "      <td>NaN</td>\n",
       "      <td>243.0</td>\n",
       "    </tr>\n",
       "    <tr>\n",
       "      <th>1982-01-02</th>\n",
       "      <td>0.0</td>\n",
       "      <td>NaN</td>\n",
       "      <td>333.847</td>\n",
       "      <td>1.3</td>\n",
       "      <td>0.4</td>\n",
       "      <td>NaN</td>\n",
       "      <td>329.0</td>\n",
       "    </tr>\n",
       "    <tr>\n",
       "      <th>1982-01-03</th>\n",
       "      <td>0.0</td>\n",
       "      <td>NaN</td>\n",
       "      <td>295.620</td>\n",
       "      <td>2.9</td>\n",
       "      <td>1.1</td>\n",
       "      <td>NaN</td>\n",
       "      <td>290.0</td>\n",
       "    </tr>\n",
       "    <tr>\n",
       "      <th>1982-01-04</th>\n",
       "      <td>0.0</td>\n",
       "      <td>NaN</td>\n",
       "      <td>305.919</td>\n",
       "      <td>1.7</td>\n",
       "      <td>0.9</td>\n",
       "      <td>NaN</td>\n",
       "      <td>300.0</td>\n",
       "    </tr>\n",
       "    <tr>\n",
       "      <th>1982-01-05</th>\n",
       "      <td>0.0</td>\n",
       "      <td>NaN</td>\n",
       "      <td>387.954</td>\n",
       "      <td>3.7</td>\n",
       "      <td>1.9</td>\n",
       "      <td>NaN</td>\n",
       "      <td>386.0</td>\n",
       "    </tr>\n",
       "  </tbody>\n",
       "</table>\n",
       "</div>"
      ],
      "text/plain": [
       "            COIMBRA_P  MANSO_JUS  COIMBRA_F  Evap_CUIABA  Evap_DIAM  \\\n",
       "1982-01-01        0.0        NaN    248.865          2.3        1.2   \n",
       "1982-01-02        0.0        NaN    333.847          1.3        0.4   \n",
       "1982-01-03        0.0        NaN    295.620          2.9        1.1   \n",
       "1982-01-04        0.0        NaN    305.919          1.7        0.9   \n",
       "1982-01-05        0.0        NaN    387.954          3.7        1.9   \n",
       "\n",
       "            Evap_RICAR  MANSO  \n",
       "1982-01-01         NaN  243.0  \n",
       "1982-01-02         NaN  329.0  \n",
       "1982-01-03         NaN  290.0  \n",
       "1982-01-04         NaN  300.0  \n",
       "1982-01-05         NaN  386.0  "
      ]
     },
     "execution_count": 5,
     "metadata": {},
     "output_type": "execute_result"
    }
   ],
   "source": [
    "#Dados Manso\n",
    "dados = pd.read_csv(\"manso.csv\", index_col=0, parse_dates=True)\n",
    "evap = pd.read_csv(\"evaporacao.csv\", sep=';', index_col=\"Data\", parse_dates=True, dayfirst=True)[\"Evaporacao Piche\"].rename(\"Evap_CUIABA\")\n",
    "evap1 = pd.read_csv(\"evaporacao2.csv\", sep=';', index_col=\"Data\", parse_dates=True, dayfirst=True)[\"Evaporacao Piche\"].rename(\"Evap_RICAR\")\n",
    "evap2 = pd.read_csv(\"evaporacao3.csv\", sep=';', index_col=\"Data\", parse_dates=True, dayfirst=True)[\"Evaporacao Piche\"].rename(\"Evap_DIAM\")\n",
    "dados = dados.combine_first(pd.DataFrame(evap))\n",
    "dados = dados.combine_first(pd.DataFrame(evap1))\n",
    "dados = dados.combine_first(pd.DataFrame(evap2))\n",
    "date_start = pd.to_datetime(\"01/01/1982\", dayfirst=True)\n",
    "date_end = pd.to_datetime(\"31/12/1986\", dayfirst=True)\n",
    "dados = dados.loc[date_start:date_end]\n",
    "dados.rename(index=str, \n",
    "             columns={\"1455008\": \"COIMBRA_P\", \"66210000\": \"MANSO_JUS\", \"66231000\": \"COIMBRA_F\"}, \n",
    "             inplace=True)\n",
    "dados.index = pd.to_datetime(dados.index, errors='coerce')\n",
    "dados.head()"
   ]
  },
  {
   "cell_type": "code",
   "execution_count": 38,
   "metadata": {},
   "outputs": [
    {
     "data": {
      "text/html": [
       "<div>\n",
       "<style scoped>\n",
       "    .dataframe tbody tr th:only-of-type {\n",
       "        vertical-align: middle;\n",
       "    }\n",
       "\n",
       "    .dataframe tbody tr th {\n",
       "        vertical-align: top;\n",
       "    }\n",
       "\n",
       "    .dataframe thead th {\n",
       "        text-align: right;\n",
       "    }\n",
       "</style>\n",
       "<table border=\"1\" class=\"dataframe\">\n",
       "  <thead>\n",
       "    <tr style=\"text-align: right;\">\n",
       "      <th></th>\n",
       "      <th>Obs</th>\n",
       "      <th>Nat</th>\n",
       "      <th>Prec</th>\n",
       "      <th>Evap_CUIABA</th>\n",
       "    </tr>\n",
       "  </thead>\n",
       "  <tbody>\n",
       "    <tr>\n",
       "      <th>1982-01-31</th>\n",
       "      <td>399.868226</td>\n",
       "      <td>396.516129</td>\n",
       "      <td>195.2</td>\n",
       "      <td>83.3</td>\n",
       "    </tr>\n",
       "    <tr>\n",
       "      <th>1982-02-28</th>\n",
       "      <td>424.485036</td>\n",
       "      <td>435.642857</td>\n",
       "      <td>156.2</td>\n",
       "      <td>76.0</td>\n",
       "    </tr>\n",
       "    <tr>\n",
       "      <th>1982-03-31</th>\n",
       "      <td>394.772968</td>\n",
       "      <td>399.838710</td>\n",
       "      <td>78.6</td>\n",
       "      <td>76.9</td>\n",
       "    </tr>\n",
       "    <tr>\n",
       "      <th>1982-04-30</th>\n",
       "      <td>292.312400</td>\n",
       "      <td>293.500000</td>\n",
       "      <td>79.0</td>\n",
       "      <td>116.4</td>\n",
       "    </tr>\n",
       "    <tr>\n",
       "      <th>1982-05-31</th>\n",
       "      <td>142.554806</td>\n",
       "      <td>141.000000</td>\n",
       "      <td>0.0</td>\n",
       "      <td>110.4</td>\n",
       "    </tr>\n",
       "  </tbody>\n",
       "</table>\n",
       "</div>"
      ],
      "text/plain": [
       "                   Obs         Nat   Prec  Evap_CUIABA\n",
       "1982-01-31  399.868226  396.516129  195.2         83.3\n",
       "1982-02-28  424.485036  435.642857  156.2         76.0\n",
       "1982-03-31  394.772968  399.838710   78.6         76.9\n",
       "1982-04-30  292.312400  293.500000   79.0        116.4\n",
       "1982-05-31  142.554806  141.000000    0.0        110.4"
      ]
     },
     "execution_count": 38,
     "metadata": {},
     "output_type": "execute_result"
    }
   ],
   "source": [
    "dados_chuva = pd.Series(dados[\"COIMBRA_P\"].groupby(pd.Grouper(freq='M')).sum(), name='Prec')\n",
    "dados_vazao_obs = pd.Series(dados[\"COIMBRA_F\"].groupby(pd.Grouper(freq='M')).mean(), name='Obs') \n",
    "dados_vazao_nat = pd.Series(dados[\"MANSO\"].groupby(pd.Grouper(freq='M')).mean(), name='Nat')\n",
    "dados_evap = pd.Series(dados[\"Evap_CUIABA\"].groupby(pd.Grouper(freq='M')).sum())\n",
    "dados_month = pd.DataFrame([dados_vazao_obs, dados_vazao_nat, dados_chuva, dados_evap]).T\n",
    "dados_month.head()"
   ]
  },
  {
   "cell_type": "markdown",
   "metadata": {},
   "source": [
    "## Média móveis"
   ]
  },
  {
   "cell_type": "markdown",
   "metadata": {},
   "source": [
    "A análise de séries temporais se baseia na modelação de componentes:\n",
    "- Tendência: Função suave que identifica alterações persistentes;\n",
    "- Sazonalidade: Variação periódica, possivelmente incluindo ciclos diários, semanais, mensais ou anuais.\n",
    "- Ruído: Variação aleatória;\n",
    "\n",
    "**Regressão** é um caminho para extrair tencência de uma série, muito usual quando é um a **função simples**;\n",
    "\n",
    "Para **funções complexas**, uma boa alternativa é as **médias móveis**.\n",
    "\n",
    "As média móveis divide a séries em **janelas**, onde essas, são sobrepostas.\n",
    "\n",
    "A média móvel mais simples é a **média rolante**, que calcula a média de cada janela."
   ]
  },
  {
   "cell_type": "code",
   "execution_count": 7,
   "metadata": {},
   "outputs": [],
   "source": [
    "dados_mv7 = dados_month.Nat.rolling(7).mean()\n",
    "dados_mv14 = dados_month.Nat.rolling(14).mean()\n",
    "dados_mv21 = dados_month.Nat.rolling(21).mean()"
   ]
  },
  {
   "cell_type": "code",
   "execution_count": 8,
   "metadata": {},
   "outputs": [
    {
     "data": {
      "text/plain": [
       "<matplotlib.axes._subplots.AxesSubplot at 0x7f678c6ea128>"
      ]
     },
     "execution_count": 8,
     "metadata": {},
     "output_type": "execute_result"
    },
    {
     "data": {
      "image/png": "[encoded data removed]",
      "text/plain": [
       "<Figure size 432x288 with 1 Axes>"
      ]
     },
     "metadata": {
      "needs_background": "light"
     },
     "output_type": "display_data"
    }
   ],
   "source": [
    "dados_month.Nat.plot()\n",
    "dados_mv7.plot()\n",
    "dados_mv14.plot()\n",
    "dados_mv21.plot()"
   ]
  },
  {
   "cell_type": "markdown",
   "metadata": {},
   "source": [
    "Existe vários tipos de média móveis, uma boa alternativa é a **média móvel ponderada-exponencialmente**.\n",
    "\n",
    "Vantagens:\n",
    "- Primeiro, como o nome sugere, ela **calcula uma média ponderada** onde o **valor mais recente tem o maior peso** e os pesos dos valores anteriores caem exponencialmente. \n",
    "- Segundo, trata melhor os valores em falta."
   ]
  },
  {
   "cell_type": "code",
   "execution_count": 9,
   "metadata": {},
   "outputs": [],
   "source": [
    "dados_ewm7 = dados_month.Nat.ewm(7).mean()\n",
    "dados_ewm14 = dados_month.Nat.ewm(14).mean()\n",
    "dados_ewm21 = dados_month.Nat.ewm(21).mean()"
   ]
  },
  {
   "cell_type": "code",
   "execution_count": 10,
   "metadata": {},
   "outputs": [
    {
     "data": {
      "text/plain": [
       "<matplotlib.axes._subplots.AxesSubplot at 0x7f678c132518>"
      ]
     },
     "execution_count": 10,
     "metadata": {},
     "output_type": "execute_result"
    },
    {
     "data": {
      "image/png": "[encoded data removed]",
      "text/plain": [
       "<Figure size 432x288 with 1 Axes>"
      ]
     },
     "metadata": {
      "needs_background": "light"
     },
     "output_type": "display_data"
    }
   ],
   "source": [
    "dados_month.Nat.plot()\n",
    "dados_ewm7.plot()\n",
    "dados_ewm14.plot()\n",
    "dados_ewm21.plot()"
   ]
  },
  {
   "cell_type": "markdown",
   "metadata": {},
   "source": [
    "## Valores ausentes"
   ]
  },
  {
   "cell_type": "markdown",
   "metadata": {},
   "source": [
    "Os teste de sazonalidade **não funcionam** muito bem quando a série apresenta **falhas**;"
   ]
  },
  {
   "cell_type": "markdown",
   "metadata": {},
   "source": [
    "## Correlação serial"
   ]
  },
  {
   "cell_type": "markdown",
   "metadata": {},
   "source": [
    "Correlação serial: Cada valor está correlacionado com o próximo valor da série;\n",
    "\n",
    "Para calcular a correlação serial, podemos **deslocar a série temporal** por um intervalo chamado lag, e depois **calcular a correlação** da série deslocada **com a original**:"
   ]
  },
  {
   "cell_type": "code",
   "execution_count": 11,
   "metadata": {},
   "outputs": [
    {
     "name": "stdout",
     "output_type": "stream",
     "text": [
      "Correlação serial:  0.699\n"
     ]
    }
   ],
   "source": [
    "corr_serial = thinkstats2.SerialCorr(dados_month.Nat, lag=1)\n",
    "\n",
    "print('Correlação serial: ', round(corr_serial, 3))"
   ]
  },
  {
   "cell_type": "markdown",
   "metadata": {},
   "source": [
    "## Autocorrelação"
   ]
  },
  {
   "cell_type": "markdown",
   "metadata": {},
   "source": [
    "A função de **autocorrelação** é a correlação serial calculada para todos os atrasos.\n",
    "\n",
    "**\"Autocorrelação\"** é outro nome para correlação serial, usado com mais frequência quando o defasagem não é 1.\n",
    "\n",
    "StatsModel tem uma função que calcula a autocorrelação."
   ]
  },
  {
   "cell_type": "code",
   "execution_count": 12,
   "metadata": {},
   "outputs": [
    {
     "data": {
      "text/plain": [
       "array([ 1.        ,  0.68537049,  0.31105395, -0.02994936, -0.31943587,\n",
       "       -0.49948087, -0.58979901, -0.55379963, -0.37841092, -0.03968092,\n",
       "        0.35007995])"
      ]
     },
     "execution_count": 12,
     "metadata": {},
     "output_type": "execute_result"
    }
   ],
   "source": [
    "import statsmodels.tsa.stattools as smtsa\n",
    "\n",
    "acf = smtsa.acf(dados_month.Nat, nlags=10, unbiased=True)\n",
    "acf"
   ]
  },
  {
   "cell_type": "markdown",
   "metadata": {},
   "source": [
    "## Predição"
   ]
  },
  {
   "cell_type": "markdown",
   "metadata": {},
   "source": [
    "- Pode ser usada para investigar;\n",
    "- Fazer predições;\n",
    "- Explicar comportamentos;\n",
    "\n",
    "É importante quantificar as incertezas das previsão;\n",
    "- Erro de Amostragem: Baseada em parâmetros estimados;\n",
    "- Variações Aleatórias: Variação em torno da tendência;\n",
    "- Erro de modelagem: Erro em modelos, por exemplo, modelo linear. \n",
    "\n",
    "Outro erro pode ser considerado, os **acontecimentos inesperados**;\n",
    "\n",
    "Erro de amostragem e variações aleatórias são mais fáceis de **quantificar**;\n",
    "\n",
    "Erros de amostragens podem ser quantificados utilizando **reamostragem**;\n"
   ]
  }
 ],
 "metadata": {
  "kernelspec": {
   "display_name": "Python 3",
   "language": "python",
   "name": "python3"
  },
  "language_info": {
   "codemirror_mode": {
    "name": "ipython",
    "version": 3
   },
   "file_extension": ".py",
   "mimetype": "text/x-python",
   "name": "python",
   "nbconvert_exporter": "python",
   "pygments_lexer": "ipython3",
   "version": "3.6.7"
  }
 },
 "nbformat": 4,
 "nbformat_minor": 2
}

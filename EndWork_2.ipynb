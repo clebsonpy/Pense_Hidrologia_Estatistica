{
 "cells": [
  {
   "cell_type": "code",
   "execution_count": 1,
   "metadata": {},
   "outputs": [],
   "source": [
    "from __future__ import print_function, division\n",
    "\n",
    "%matplotlib inline\n",
    "\n",
    "import matplotlib.pyplot as plt\n",
    "import numpy as np\n",
    "import pandas as pd\n",
    "\n",
    "import thinkstats2\n",
    "import thinkplot\n",
    "import funcoes as fun"
   ]
  },
  {
   "cell_type": "code",
   "execution_count": 2,
   "metadata": {},
   "outputs": [],
   "source": [
    "dir_dados = \"dados_com_evap_manso.csv\"\n",
    "# \"MANSO\": Dados Naturais\n",
    "# \"COIMBRA_F\": Dados Observados\n",
    "# \"COIMBRA_P\": Dados de chuva\n",
    "dados_nat = fun.dados(dir_dados, label=\"MANSO\")"
   ]
  },
  {
   "cell_type": "markdown",
   "metadata": {},
   "source": [
    "# Cap.: 3 - Função de Massa de Probabilidade"
   ]
  },
  {
   "cell_type": "markdown",
   "metadata": {},
   "source": [
    "A **Função de Massa de Probabilidade (PMF)** é uma maneira de representar uma distribuição e mapeia as probabilidade relativa de cada valor;\n",
    "\n",
    "- Probabilidade é a divisão da frequência pelo tamanho da amostra;\n",
    "\n",
    "Como a pmf é normalizada, a probilidade total é 1;"
   ]
  },
  {
   "cell_type": "code",
   "execution_count": 3,
   "metadata": {},
   "outputs": [],
   "source": [
    "#Mês ínicio do ano hidrológico\n",
    "inicio = fun.month_start_year_hydrologic(dados_nat)\n",
    "\n",
    "#Dados de máximas anuais\n",
    "dados_nat_max = fun.annual(dados_nat, inicio)"
   ]
  },
  {
   "cell_type": "code",
   "execution_count": 4,
   "metadata": {},
   "outputs": [],
   "source": [
    "#plotar hidrograma de máximas anuais"
   ]
  },
  {
   "cell_type": "code",
   "execution_count": 5,
   "metadata": {},
   "outputs": [
    {
     "name": "stdout",
     "output_type": "stream",
     "text": [
      "Probabilidade Total:  1.0000000000000002\n"
     ]
    }
   ],
   "source": [
    "#PMF\n",
    "pmf_nat = thinkstats2.Pmf(dados_nat_max)\n",
    "print('Probabilidade Total: ', pmf_nat.Total())"
   ]
  },
  {
   "cell_type": "markdown",
   "metadata": {},
   "source": [
    "Pmf e Hist são objetos similires em muitos aspectos;\n",
    "\n",
    "A diferneça é:\n",
    "\n",
    "- **Hist** contabiliza valores inteiros;\n",
    "\n",
    "- **PMF** contabiliza probabilidades de ponto flutuantes;"
   ]
  },
  {
   "cell_type": "code",
   "execution_count": 6,
   "metadata": {},
   "outputs": [
    {
     "data": {
      "image/png": "[encoded data removed]",
      "text/plain": [
       "<Figure size 864x432 with 2 Axes>"
      ]
     },
     "metadata": {
      "needs_background": "light"
     },
     "output_type": "display_data"
    }
   ],
   "source": [
    "thinkplot.PrePlot(1, cols=2)\n",
    "counts, bins = np.histogram(dados_nat_max)\n",
    "hist = plt.hist(bins[:-1], bins, weights=counts, color='black')\n",
    "thinkplot.Config(xlabel='Vazão', ylabel='Frequência')\n",
    "\n",
    "thinkplot.SubPlot(2)\n",
    "counts, bins = np.histogram(dados_nat_max, density=True)\n",
    "_ = plt.hist(bins[:-1], bins, weights=counts, color='black', histtype='step')\n",
    "thinkplot.Config(xlabel='Vazão', ylabel='Probabilidade')"
   ]
  },
  {
   "cell_type": "code",
   "execution_count": 7,
   "metadata": {},
   "outputs": [
    {
     "name": "stdout",
     "output_type": "stream",
     "text": [
      "Probabiidade:  0.9428571428571431\n"
     ]
    }
   ],
   "source": [
    "q95 = dados_nat.quantile(0.95)\n",
    "print('Probabiidade: ', pmf_nat.ProbGreater(q95))"
   ]
  },
  {
   "cell_type": "markdown",
   "metadata": {},
   "source": [
    "## As limitações das PMFs\n",
    "\n",
    "- As Pmfs funcionam bem para tamanhos pequenos;\n",
    "\n",
    "- Com o aumento do tamanho, a probabilidade diminui e aumenta os ruídos;\n",
    "\n",
    "- Quando se tem uma amostra grande, é difícil de se fazer comparações usando uma Pmf;\n",
    "\n",
    "- Podemos usar categorias para minizar esse problema, mas difícil de obter o tamanho de cada categoria;\n",
    "\n",
    "- Uma outra solução é utilizar Função de Distribuição Acumulada (no inglês CDF)."
   ]
  },
  {
   "cell_type": "markdown",
   "metadata": {},
   "source": [
    "# Cap.: 4 - Função de Distribuição Acumulada"
   ]
  },
  {
   "cell_type": "markdown",
   "metadata": {},
   "source": [
    "## Percentis\n",
    "\n",
    "- O percentil é o valor de uma evento ser menor ou igual;\n",
    "\n",
    "- Percentil Rank: Calcula a classificação percentual do valor(recebido) em um conjunto de valores;\n",
    "\n",
    "- Percentil: Calcula o valor correspondente ao percentil(recebido);"
   ]
  },
  {
   "cell_type": "markdown",
   "metadata": {},
   "source": [
    "## CDFs\n",
    "\n",
    "- A CDF mapeia os valores para um rank percentil;\n",
    "\n",
    "- Para avaliar valor particular de uma vazão x, calculamos a fração de valores na distribuição menor ou igual a vazão x;\n",
    "\n",
    "- Na CDF podemos avaliar qualquer valor, não apenas valores que aparecem na amostra;"
   ]
  },
  {
   "cell_type": "markdown",
   "metadata": {},
   "source": []
  },
  {
   "cell_type": "code",
   "execution_count": 8,
   "metadata": {},
   "outputs": [],
   "source": [
    "# \"COIMBRA_F\": Dados Observados\n",
    "dados_obs = fun.dados(dir_dados, label=\"COIMBRA_F\")\n",
    "\n",
    "#Considerando o período sem falha dos dados observados entre \"01/01/1982\" e \"31/12/1986\";\n",
    "# e atualizando os dados naturais e observados para o período sem falhas\n",
    "dados_obs = fun.date(dados_obs, start=\"01/01/1982\", end=\"31/12/1986\")\n",
    "dados_nat = fun.date(dados_nat, start=\"01/01/1982\", end=\"31/12/1986\")\n",
    "\n",
    "\n",
    "#Mês ínicio do ano hidrológico\n",
    "inicio_nat = fun.month_start_year_hydrologic(dados_nat)\n",
    "inicio_obs = fun.month_start_year_hydrologic(dados_obs)\n",
    "\n",
    "#Dados de máximas anuais\n",
    "dados_obs_max = fun.annual(dados_obs, inicio_obs)\n",
    "dados_nat_max = fun.annual(dados_nat, inicio_nat)"
   ]
  },
  {
   "cell_type": "code",
   "execution_count": 9,
   "metadata": {},
   "outputs": [
    {
     "data": {
      "image/png": "[encoded data removed]",
      "text/plain": [
       "<Figure size 432x288 with 1 Axes>"
      ]
     },
     "metadata": {
      "needs_background": "light"
     },
     "output_type": "display_data"
    },
    {
     "data": {
      "text/plain": [
       "<Figure size 576x432 with 0 Axes>"
      ]
     },
     "metadata": {},
     "output_type": "display_data"
    }
   ],
   "source": [
    "cdf_nat_max = thinkstats2.Cdf(dados_nat_max, label='Naturais')\n",
    "cdf_obs_max = thinkstats2.Cdf(dados_obs_max, label='Observadas')\n",
    "thinkplot.Cdf(cdf_nat_max, color='black')\n",
    "thinkplot.Cdf(cdf_obs_max, color='blue')\n",
    "thinkplot.Show(xlabel='Vazão', ylabel='Probabilidade de não excedência')"
   ]
  },
  {
   "cell_type": "markdown",
   "metadata": {},
   "source": [
    "A CDF apresenta algumas vantagens:\n",
    "\n",
    "- A CDF também fornece uma representação visual da forma da distribuição;\n",
    "\n",
    "- Os valores mais comuns aparecem na parte mais íngreme da CDF;\n",
    "\n",
    "- As informações de uma CDF são apresentadas com mais clareza do que uma PMF;\n",
    "\n",
    "- As CDFs são especialmente úteis para comparações, as diferenças entre distribuições são mais claras na Cdf;"
   ]
  },
  {
   "cell_type": "markdown",
   "metadata": {},
   "source": [
    "Os percentil são usados para computar algumas estatísticas:\n",
    "\n",
    "- Percentil 50°, corresponde ao valor central da distribuição, conhecido como **mediana**;\n",
    "\n",
    "- Outra estatítica é o **intervalo interquantil**, que é a diferença entre o percentil 75° e 25°;\n",
    "\n",
    "Usados para resumir a forma de uma distribuição."
   ]
  },
  {
   "cell_type": "code",
   "execution_count": 10,
   "metadata": {},
   "outputs": [
    {
     "name": "stdout",
     "output_type": "stream",
     "text": [
      "Rank Percentil(NAT) de 1000:  0\n",
      "Rank Percentil(OBS) de 1000:  33.33333333333333\n",
      "Rank Percentil(NAT) de 2000:  100.0\n",
      "Rank Percentil(OBS) de 2000:  100.0\n"
     ]
    }
   ],
   "source": [
    "p_nat_1 = cdf_nat_max.PercentileRank(1000)\n",
    "p_nat_2 = cdf_nat_max.PercentileRank(2000)\n",
    "\n",
    "p_obs_1 = cdf_obs_max.PercentileRank(1000)\n",
    "p_obs_2 = cdf_obs_max.PercentileRank(2000)\n",
    "\n",
    "print('Rank Percentil(NAT) de 1000: ', p_nat_1)\n",
    "print('Rank Percentil(OBS) de 1000: ', p_obs_1)\n",
    "print('Rank Percentil(NAT) de 2000: ', p_nat_2)\n",
    "print('Rank Percentil(OBS) de 2000: ', p_obs_2)"
   ]
  },
  {
   "cell_type": "markdown",
   "metadata": {},
   "source": [
    "**Quartis** das máximas anuais naturais "
   ]
  },
  {
   "cell_type": "code",
   "execution_count": 11,
   "metadata": {},
   "outputs": [
    {
     "name": "stdout",
     "output_type": "stream",
     "text": [
      "Valor referente ao percentil 25:  1118.0\n",
      "Valor referente ao percentil 50:  1126.0\n",
      "Valor referente ao percentil 75:  1193.0\n"
     ]
    }
   ],
   "source": [
    "q_nat_1 = cdf_nat_max.Percentile(25)\n",
    "q_nat_2 = cdf_nat_max.Percentile(50)\n",
    "q_nat_3 = cdf_nat_max.Percentile(75)\n",
    "\n",
    "print('Valor referente ao percentil 25: ', q_nat_1)\n",
    "print('Valor referente ao percentil 50: ', q_nat_2)\n",
    "print('Valor referente ao percentil 75: ', q_nat_3)"
   ]
  },
  {
   "cell_type": "markdown",
   "metadata": {},
   "source": [
    "**Quartis** das máximas anuais observadas"
   ]
  },
  {
   "cell_type": "code",
   "execution_count": 12,
   "metadata": {},
   "outputs": [
    {
     "name": "stdout",
     "output_type": "stream",
     "text": [
      "Valor referente ao percentil 25:  987.529\n",
      "Valor referente ao percentil 50:  1006.577\n",
      "Valor referente ao percentil 75:  1061.887\n"
     ]
    }
   ],
   "source": [
    "q_obs_1 = cdf_obs_max.Percentile(25)\n",
    "q_obs_2 = cdf_obs_max.Percentile(50)\n",
    "q_obs_3 = cdf_obs_max.Percentile(75)\n",
    "\n",
    "print('Valor referente ao percentil 25: ', q_obs_1)\n",
    "print('Valor referente ao percentil 50: ', q_obs_2)\n",
    "print('Valor referente ao percentil 75: ', q_obs_3)"
   ]
  },
  {
   "cell_type": "markdown",
   "metadata": {},
   "source": [
    "Observando os quartis, podemos notar que as vazões dos dados naturais são maiores do que as dos dados observados;"
   ]
  },
  {
   "cell_type": "markdown",
   "metadata": {},
   "source": [
    "# Cap.: 7 - Relacionamento entre variáveis"
   ]
  },
  {
   "cell_type": "markdown",
   "metadata": {},
   "source": [
    "## Gráficos de dispersão\n",
    "\n",
    "- Opção mais simples para verificar relação entre duas variáveis;\n",
    "\n",
    "- Consiste no lançamento dos pares de observações das variáveis que se deseja verificar a relação;\n",
    "\n",
    "- Fornece uma impressão geral sobre o relacionamento entre variáveis;\n",
    "\n",
    "Podemos verificar a relação entre os dados de média mensal das vazoẽs observadas e  chuva acumulada mensal;"
   ]
  },
  {
   "cell_type": "code",
   "execution_count": 13,
   "metadata": {},
   "outputs": [],
   "source": [
    "dados_obs_mensal = fun.dados_media(dados_obs, freq='M')\n",
    "\n",
    "# \"COIMBRA_P\": Dados de chuva\n",
    "dados_chuva = fun.dados(dir_dados, label=\"COIMBRA_P\")\n",
    "dados_chuva = fun.date(dados_chuva, start=\"01/01/1982\", end=\"31/12/1986\")\n",
    "\n",
    "dados_chuva_acumulada = fun.dados_acumulado(dados_chuva, freq='M')"
   ]
  },
  {
   "cell_type": "code",
   "execution_count": 14,
   "metadata": {},
   "outputs": [
    {
     "data": {
      "image/png": "[encoded data removed]",
      "text/plain": [
       "<Figure size 432x288 with 1 Axes>"
      ]
     },
     "metadata": {
      "needs_background": "light"
     },
     "output_type": "display_data"
    },
    {
     "data": {
      "text/plain": [
       "<Figure size 576x432 with 0 Axes>"
      ]
     },
     "metadata": {},
     "output_type": "display_data"
    }
   ],
   "source": [
    "thinkplot.Scatter(dados_chuva_acumulada, dados_obs_mensal)\n",
    "thinkplot.Show(xlabel='Chuva', ylabel='Vazao', legend=False)"
   ]
  },
  {
   "cell_type": "markdown",
   "metadata": {},
   "source": [
    "* Podemos observar que existe alguma relação entre as variáveis, mas podemos notar algumas aleatoriedade entre as variáveis de chuva e vazão.\n",
    "* A variável de vazão não depende somente da variável de chuva;"
   ]
  },
  {
   "cell_type": "markdown",
   "metadata": {},
   "source": [
    "## Caracterizando relacionamentos\n",
    "* Outras formas de visualização fornece um maior conhecimento da natureza do relacionamento; \n",
    " * Uma opção é o gráfico de percentis;"
   ]
  },
  {
   "cell_type": "code",
   "execution_count": 15,
   "metadata": {},
   "outputs": [
    {
     "data": {
      "image/png": "[encoded data removed]",
      "text/plain": [
       "<Figure size 432x288 with 1 Axes>"
      ]
     },
     "metadata": {
      "needs_background": "light"
     },
     "output_type": "display_data"
    }
   ],
   "source": [
    "fun.plot_percentil(dados_chuva_acumulada, dados_obs_mensal)\n",
    "thinkplot.Config(xlabel='Chuva', ylabel='Vazao', legend=True)"
   ]
  },
  {
   "cell_type": "markdown",
   "metadata": {},
   "source": [
    "O gráfico de percentis, mostra que os dados de chuva e vazão observada não tem uma boa relação linear;"
   ]
  },
  {
   "cell_type": "markdown",
   "metadata": {},
   "source": [
    "## Correlações"
   ]
  },
  {
   "cell_type": "markdown",
   "metadata": {},
   "source": [
    "* Utilizada para **quantificar a força** de relacionamento entre duas variáveis;\n",
    "* Um dos problemas para medir a relação entre duas variáveis é que muitas vezes elas não apresentam as mesmas **unidades** ou são de **distribuições diferentes**;\n",
    "* As soluções para esses problemas são:\n",
    " * Transformar cada valor em um **score padrão**: que é o número desvio padrão a partir da média, \"Coeficiente de correlação produto-momento de Pearson\";\n",
    " * Transformar cada valor em **rank**: que é uma lista organizado pelo index de cada valor, “Coeficiente de correlação Spearman rank\".\n",
    "* Se X é uma série de n valores, então o score padrão(Z) é:\n",
    "\\begin{align}\n",
    "z_i & = \\frac{x_i-\\mu}{\\sigma} \\\\\n",
    "\\end{align}\n",
    "Onde:\n",
    " * $z_i$ é score padrão;\n",
    " * $x_i$ valor da variável;\n",
    " * $\\mu$ é a média;\n",
    " * $\\sigma$ é o desvio padrão.\n",
    "* O Score padrão (Z) é admensional;"
   ]
  },
  {
   "cell_type": "code",
   "execution_count": 17,
   "metadata": {},
   "outputs": [
    {
     "data": {
      "text/plain": [
       "1982-01-31    1.863917\n",
       "1982-02-28    2.078658\n",
       "1982-03-31    1.819469\n",
       "1982-04-30    0.925669\n",
       "1982-05-31   -0.380720\n",
       "Freq: M, Name: COIMBRA_F, dtype: float64"
      ]
     },
     "execution_count": 17,
     "metadata": {},
     "output_type": "execute_result"
    }
   ],
   "source": [
    "df_zscore = (dados_obs_mensal - dados_obs_mensal.mean())/dados_obs_mensal.std()\n",
    "df_zscore.head(5)"
   ]
  },
  {
   "cell_type": "markdown",
   "metadata": {},
   "source": [
    "## Covariância\n",
    "* É uma medida da tendência de duas variáveis variarem juntas. \n",
    "* Se temos duas séries, X e Y, seus desvios a partir da média são:\n",
    "\\begin{align}\n",
    "dx_i & = x_i - \\overline{x}\\\\\n",
    "dy_i & = y_i - \\overline{y}\\\\\n",
    "\\end{align}\n",
    "Onde,\n",
    " * $\\overline{x}$ é a média da amostra X;\n",
    " * $\\overline{y}$ é a média da amostra Y;\n",
    "* X e Y variando juntos, os sinais dos desvios tendem a ter o mesmo sinal;\n",
    "* O produto é positivo quando os desvios tiverem o mesmo sinal e negativos quando tiverem o sinal oposto.\n",
    "* Covariância é a média dos produtos dos desvios;\n",
    "\\begin{align}\n",
    "Cov(X,Y) = \\frac{1}{n} \\sum dx_i dy_i\n",
    "\\end{align}\n",
    "Onde:\n",
    " * $n$ é o tamanho das séries;"
   ]
  },
  {
   "cell_type": "code",
   "execution_count": 20,
   "metadata": {},
   "outputs": [
    {
     "name": "stdout",
     "output_type": "stream",
     "text": [
      "Covariância:  6631.9222952591745\n"
     ]
    }
   ],
   "source": [
    "print(\"Covariância: \", dados_chuva_acumulada.cov(dados_obs_mensal))"
   ]
  },
  {
   "cell_type": "markdown",
   "metadata": {},
   "source": [
    "## Correlação de Pearson\n",
    "* Corvariância é muito utilizada, mas é difícil de interpretar;\n",
    "* Um dos problemas é a difecença de unidades;\n",
    "* Para resolver esse problema, divide os desvios pelos desvio padrão;\n",
    "\\begin{align}\n",
    "P_i = \\frac{(x_i - \\overline{x})}{S_X}  \\frac{(y_i - \\overline{y})}{S_Y}\n",
    "\\end{align}\n",
    "\n",
    "Onde $S_X$ e $S_Y$ são os desvios padrão de $X$ e $Y$. A média destes produtos é\n",
    "\\begin{align}\n",
    "\\rho = \\frac{1}{n} \\sum \\rho_i\n",
    "\\end{align}\n",
    "Reescrever $\\rho$ calculando $S_X$ e $S_Y$\n",
    "Onde $S_X$ e $S_Y$ são os desvios padrão de $X$ e $Y$. A média destes produtos é\n",
    "\\begin{align}\n",
    "\\rho = \\frac{Cov(X, Y)}{S_X S_Y}\n",
    "\\end{align}"
   ]
  },
  {
   "cell_type": "code",
   "execution_count": 21,
   "metadata": {},
   "outputs": [
    {
     "name": "stdout",
     "output_type": "stream",
     "text": [
      "Correlação Pearson:  0.596723094522927\n"
     ]
    }
   ],
   "source": [
    "print(\"Correlação Pearson: \", dados_chuva_acumulada.corr(dados_obs_mensal))"
   ]
  },
  {
   "cell_type": "markdown",
   "metadata": {},
   "source": [
    "* É fácil de calcular e de interpretar;\n",
    "* Como o score padrão é admensional, o mesmo acontece com a correlação de Pearson;\n",
    "* A correlação de Pearson é sempre entre -1 e +1;\n",
    "* $\\rho$ é positivo a relação é **maior - maior** ou **menor - menor**;\n",
    "* $\\rho$ é negativa a relação é **maior - menor** ou **menor - maior**;\n",
    "* $\\rho$ sendo 0, nenhuma relação;\n",
    "* O valor de $\\rho$ indica a força de correlação, $\\rho$ sendo 1 ou -1, o relacionamento entre as variáveis são perfeitas;"
   ]
  },
  {
   "cell_type": "markdown",
   "metadata": {},
   "source": [
    "## Relações não lineares\n",
    "* O coeficiente de correlação de Pearson mede apenas os relacionamentos lineares;\n",
    "* Antes de calcular o coeficente de correlação devemos primeiro olhar o gráfico de dispersão;"
   ]
  },
  {
   "cell_type": "markdown",
   "metadata": {},
   "source": [
    "## Correlação Spearman’s rank\n",
    "* A correlação de Pearson não é robusto na presença de outliers;\n",
    "* A correlaçção de Spearman's é uma alternativa para diminuir os efeitos de  outliers e distribuições distorcidas;\n",
    "* A correlação de Spearman, é o índice na amostra classificada;"
   ]
  },
  {
   "cell_type": "code",
   "execution_count": 1,
   "metadata": {},
   "outputs": [
    {
     "ename": "NameError",
     "evalue": "name 'dados_chuva_acumulada' is not defined",
     "output_type": "error",
     "traceback": [
      "\u001b[0;31m---------------------------------------------------------------------------\u001b[0m",
      "\u001b[0;31mNameError\u001b[0m                                 Traceback (most recent call last)",
      "\u001b[0;32m<ipython-input-1-a679f57f58c0>\u001b[0m in \u001b[0;36m<module>\u001b[0;34m\u001b[0m\n\u001b[0;32m----> 1\u001b[0;31m \u001b[0mprint\u001b[0m\u001b[0;34m(\u001b[0m\u001b[0;34m\"Correlação Spearman: \"\u001b[0m\u001b[0;34m,\u001b[0m \u001b[0mdados_chuva_acumulada\u001b[0m\u001b[0;34m.\u001b[0m\u001b[0mcorr\u001b[0m\u001b[0;34m(\u001b[0m\u001b[0mdados_obs_mensal\u001b[0m\u001b[0;34m,\u001b[0m \u001b[0mmethod\u001b[0m\u001b[0;34m=\u001b[0m\u001b[0;34m'spearman'\u001b[0m\u001b[0;34m)\u001b[0m\u001b[0;34m)\u001b[0m\u001b[0;34m\u001b[0m\u001b[0;34m\u001b[0m\u001b[0m\n\u001b[0m\u001b[1;32m      2\u001b[0m \u001b[0;34m\u001b[0m\u001b[0m\n\u001b[1;32m      3\u001b[0m \u001b[0;31m#Log\u001b[0m\u001b[0;34m\u001b[0m\u001b[0;34m\u001b[0m\u001b[0;34m\u001b[0m\u001b[0m\n\u001b[1;32m      4\u001b[0m \u001b[0mprint\u001b[0m\u001b[0;34m(\u001b[0m\u001b[0;34m\"Correlação Pearson: \"\u001b[0m\u001b[0;34m,\u001b[0m \u001b[0mdados_chuva_acumulada\u001b[0m\u001b[0;34m.\u001b[0m\u001b[0mcorr\u001b[0m\u001b[0;34m(\u001b[0m\u001b[0mnp\u001b[0m\u001b[0;34m.\u001b[0m\u001b[0mlog\u001b[0m\u001b[0;34m(\u001b[0m\u001b[0mdados_obs_mensal\u001b[0m\u001b[0;34m)\u001b[0m\u001b[0;34m)\u001b[0m\u001b[0;34m)\u001b[0m\u001b[0;34m\u001b[0m\u001b[0;34m\u001b[0m\u001b[0m\n",
      "\u001b[0;31mNameError\u001b[0m: name 'dados_chuva_acumulada' is not defined"
     ]
    }
   ],
   "source": [
    "print(\"Correlação Spearman: \", dados_chuva_acumulada.corr(dados_obs_mensal, method='spearman'))\n",
    "\n",
    "#Log\n",
    "print(\"Correlação Pearson: \", dados_chuva_acumulada.corr(np.log(dados_obs_mensal)))"
   ]
  },
  {
   "cell_type": "markdown",
   "metadata": {},
   "source": [
    "Causas para a correlação de Spearman ser maior que a de Pearson:\n",
    "* Para relacionamento não linear, a correlação de Pearson tende a subestimar a força da relaçao;\n",
    "* A correlação de Pearson é afetada por outliers;"
   ]
  },
  {
   "cell_type": "markdown",
   "metadata": {},
   "source": [
    "## Correlação e causalidade\n",
    "* Existe 3 posibilidades para 2 variáveis (A e B) serem correlaciondas:\n",
    " * A causa B;\n",
    " * B causa A;\n",
    " * Outro fator causa A e B;\n",
    "* Como identificar a casualidade:\n",
    " * **Tempo**, a variável que acontece primeiro causa a outra;\n",
    " * **Aleatoriedade**\n",
    " * Em alguns casos, é possível inferir relações causais usando **análise de regressão**;"
   ]
  },
  {
   "cell_type": "code",
   "execution_count": null,
   "metadata": {},
   "outputs": [],
   "source": []
  }
 ],
 "metadata": {
  "kernelspec": {
   "display_name": "Python 3",
   "language": "python",
   "name": "python3"
  },
  "language_info": {
   "codemirror_mode": {
    "name": "ipython",
    "version": 3
   },
   "file_extension": ".py",
   "mimetype": "text/x-python",
   "name": "python",
   "nbconvert_exporter": "python",
   "pygments_lexer": "ipython3",
   "version": "3.6.7"
  }
 },
 "nbformat": 4,
 "nbformat_minor": 2
}

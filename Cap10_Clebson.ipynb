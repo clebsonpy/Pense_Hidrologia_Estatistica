{
 "cells": [
  {
   "cell_type": "markdown",
   "metadata": {},
   "source": [
    "# Linear dos mínimos quadrados(Cap10) - Pense Estatística, 2º Edição.\n",
    "\n",
    "## Universidade Federal de Alagoas - UFAL\n",
    "## Centro de Tecnologia - CTEC\n",
    "## Programa de Pós-Graduação Recursos Hídricos e Saneamento - PPGRHS\n",
    "### Disciplina de Estatística\n",
    "\n",
    "Clebson Farias"
   ]
  },
  {
   "cell_type": "code",
   "execution_count": 1,
   "metadata": {},
   "outputs": [],
   "source": [
    "from __future__ import print_function, division\n",
    "\n",
    "%matplotlib inline\n",
    "\n",
    "import numpy as np\n",
    "import pandas as pd\n",
    "import matplotlib.pyplot as plt\n",
    "\n",
    "import thinkstats2\n",
    "import thinkplot"
   ]
  },
  {
   "cell_type": "markdown",
   "metadata": {},
   "source": [
    "## Ajuste dos mínimos quadrados\n",
    "- Os coeficientes de correlação medem a força e o sinal de uma relação, mas não a inclinação;\n",
    "- A forma mais comum para estimar a inclinação é o ajuste de mínimos quadrados;\n",
    "- **Ajuste linear** é uma linha destinada a modelar a relação entre variáveis;\n",
    "- O ajuste de **mínimos quadrados** minimiza o erro quadrático médio (MSE) entre a linha e os dados;\n",
    "- ys é expressar em função de outra sequência xs, onde:\n",
    "\\begin{equation}\n",
    "    ys[i] = inter + slope * xs[i] + \\epsilon\n",
    "\\end{equation}\n",
    "- $\\epsilon$ É um erro aleatório de média 0 e variância $\\sigma^{2}$\n",
    "- Sendo assim, o valor esperado de ys pertence a uma distribuição normal com parâmetros $\\mu$, sendo:\n",
    "\\begin{equation}\n",
    "    \\mu_{ys|x} = inter + slope * xs[i]\n",
    "\\end{equation}\n",
    "- Esta previsão é apenas aproximada, o desvio residual é,\n",
    "\\begin{equation}\n",
    "    res = ys - (inter + slope * xs)\n",
    "\\end{equation}\n",
    "- Os **resíduos** são devidos a **fatores aleatórios** como erro de medição ou **fatores não aleatórios** que são desconhecidos;\n",
    "- O objetivo dos parâmetros inter e slope, é diminuir o resíduo, isso pode ser feito de várias formas:\n",
    "    - Minimizar o valor absoluto;\n",
    "    - Seus quadrados;\n",
    "    - Seus cubos;\n",
    "    - **Minimizar a soma dos resíduos ao quadrado**.\n",
    "- Logo abaixo está listado as razões para minimizar a soma dos resíduos ao quadrado:\n",
    "    - Trata os resíduos positivos e negativos da mesma forma;\n",
    "    - Dá mais peso aos grandes resíduos;\n",
    "    - É um estimador de máxima verosimilhança de inter e slope;\n",
    "    - Os valores de inter e slope podem ser calculados de forma eficiente."
   ]
  },
  {
   "cell_type": "markdown",
   "metadata": {},
   "source": [
    "## Implementação"
   ]
  },
  {
   "cell_type": "code",
   "execution_count": 2,
   "metadata": {},
   "outputs": [
    {
     "data": {
      "text/html": [
       "<div>\n",
       "<style scoped>\n",
       "    .dataframe tbody tr th:only-of-type {\n",
       "        vertical-align: middle;\n",
       "    }\n",
       "\n",
       "    .dataframe tbody tr th {\n",
       "        vertical-align: top;\n",
       "    }\n",
       "\n",
       "    .dataframe thead th {\n",
       "        text-align: right;\n",
       "    }\n",
       "</style>\n",
       "<table border=\"1\" class=\"dataframe\">\n",
       "  <thead>\n",
       "    <tr style=\"text-align: right;\">\n",
       "      <th></th>\n",
       "      <th>1455008</th>\n",
       "      <th>66210000</th>\n",
       "      <th>66231000</th>\n",
       "      <th>MANSO</th>\n",
       "    </tr>\n",
       "  </thead>\n",
       "  <tbody>\n",
       "    <tr>\n",
       "      <th>1981-08-01</th>\n",
       "      <td>0.0</td>\n",
       "      <td>NaN</td>\n",
       "      <td>88.460</td>\n",
       "      <td>NaN</td>\n",
       "    </tr>\n",
       "    <tr>\n",
       "      <th>1981-08-02</th>\n",
       "      <td>0.0</td>\n",
       "      <td>NaN</td>\n",
       "      <td>87.233</td>\n",
       "      <td>NaN</td>\n",
       "    </tr>\n",
       "    <tr>\n",
       "      <th>1981-08-03</th>\n",
       "      <td>0.0</td>\n",
       "      <td>NaN</td>\n",
       "      <td>87.233</td>\n",
       "      <td>NaN</td>\n",
       "    </tr>\n",
       "    <tr>\n",
       "      <th>1981-08-04</th>\n",
       "      <td>0.0</td>\n",
       "      <td>NaN</td>\n",
       "      <td>86.011</td>\n",
       "      <td>NaN</td>\n",
       "    </tr>\n",
       "    <tr>\n",
       "      <th>1981-08-05</th>\n",
       "      <td>0.0</td>\n",
       "      <td>NaN</td>\n",
       "      <td>84.794</td>\n",
       "      <td>NaN</td>\n",
       "    </tr>\n",
       "  </tbody>\n",
       "</table>\n",
       "</div>"
      ],
      "text/plain": [
       "            1455008  66210000  66231000  MANSO\n",
       "1981-08-01      0.0       NaN    88.460    NaN\n",
       "1981-08-02      0.0       NaN    87.233    NaN\n",
       "1981-08-03      0.0       NaN    87.233    NaN\n",
       "1981-08-04      0.0       NaN    86.011    NaN\n",
       "1981-08-05      0.0       NaN    84.794    NaN"
      ]
     },
     "execution_count": 2,
     "metadata": {},
     "output_type": "execute_result"
    }
   ],
   "source": [
    "#Dados Manso\n",
    "dados = pd.read_csv(\"manso.csv\", index_col=0, parse_dates=True)\n",
    "date_start = pd.to_datetime(\"01/08/1981\", dayfirst=True)\n",
    "date_end = pd.to_datetime(\"31/12/1989\", dayfirst=True)\n",
    "dados = dados.loc[date_start:date_end]\n",
    "dados.head()"
   ]
  },
  {
   "cell_type": "code",
   "execution_count": 3,
   "metadata": {},
   "outputs": [
    {
     "data": {
      "image/png": "[encoded data removed]",
      "text/plain": [
       "<Figure size 432x288 with 1 Axes>"
      ]
     },
     "metadata": {
      "needs_background": "light"
     },
     "output_type": "display_data"
    },
    {
     "data": {
      "text/plain": [
       "<Figure size 576x432 with 0 Axes>"
      ]
     },
     "metadata": {},
     "output_type": "display_data"
    }
   ],
   "source": [
    "#Gráfico de dispersão\n",
    "dados_chuva = dados[\"1455008\"].groupby(pd.Grouper(freq='M')).sum()\n",
    "dados_vazao = dados[\"66231000\"].groupby(pd.Grouper(freq='M')).mean()\n",
    "dados_month = pd.DataFrame([dados_chuva, dados_vazao])\n",
    "thinkplot.Scatter(dados_chuva, dados_vazao, alpha=1.0, s=10)\n",
    "thinkplot.Show(xlabel='Chuva', ylabel='Vazao', legend=False)\n",
    "dados_month = dados_month.T"
   ]
  },
  {
   "cell_type": "code",
   "execution_count": 4,
   "metadata": {},
   "outputs": [
    {
     "name": "stdout",
     "output_type": "stream",
     "text": [
      "Inter:  98.5512 \n",
      "Slope:  0.7476\n"
     ]
    }
   ],
   "source": [
    "inter, slope = thinkstats2.LeastSquares(dados_chuva.values, dados_vazao.values)\n",
    "print(\"Inter: \", round(inter, 4), \"\\nSlope: \", round(slope, 4))"
   ]
  },
  {
   "cell_type": "code",
   "execution_count": 5,
   "metadata": {},
   "outputs": [
    {
     "data": {
      "image/png": "[encoded data removed]",
      "text/plain": [
       "<Figure size 432x288 with 1 Axes>"
      ]
     },
     "metadata": {
      "needs_background": "light"
     },
     "output_type": "display_data"
    },
    {
     "data": {
      "text/plain": [
       "<Figure size 576x432 with 0 Axes>"
      ]
     },
     "metadata": {},
     "output_type": "display_data"
    }
   ],
   "source": [
    "fit_xs, fit_ys = thinkstats2.FitLine(dados_chuva, inter, slope)\n",
    "plt.plot(fit_xs, fit_ys)\n",
    "thinkplot.Scatter(dados_chuva, dados_vazao, alpha=1.0, s=10)\n",
    "thinkplot.Show(xlabel='Chuva', ylabel='Vazao', legend=False)"
   ]
  },
  {
   "cell_type": "markdown",
   "metadata": {},
   "source": [
    "## Residual"
   ]
  },
  {
   "cell_type": "code",
   "execution_count": 6,
   "metadata": {},
   "outputs": [],
   "source": [
    "res = thinkstats2.Residuals(dados_chuva, dados_vazao, inter, slope)\n",
    "dados_month['Residuos'] = res\n",
    "bins = np.arange(0, 500, 40)\n",
    "indices = np.digitize(dados_month[\"1455008\"], bins)\n",
    "groups = dados_month.groupby(indices)\n",
    "\n",
    "chuva_means = [group.mean() for _, group in groups][1:-1]"
   ]
  },
  {
   "cell_type": "code",
   "execution_count": 7,
   "metadata": {},
   "outputs": [],
   "source": [
    "cdfs = [thinkstats2.Cdf(group.Residuos) for _, group in groups][1:-1]"
   ]
  },
  {
   "cell_type": "code",
   "execution_count": 8,
   "metadata": {},
   "outputs": [],
   "source": [
    "def PlotPercentiles(age_means, cdfs):\n",
    "    thinkplot.PrePlot(3)\n",
    "    for percent in [75, 50, 25]:\n",
    "        weight_percentiles = [cdf.Percentile(percent) for cdf in cdfs]\n",
    "        label = '%dth' % percent\n",
    "        thinkplot.Plot(age_means, weight_percentiles, label=label)"
   ]
  },
  {
   "cell_type": "code",
   "execution_count": 9,
   "metadata": {},
   "outputs": [
    {
     "data": {
      "image/png": "[encoded data removed]",
      "text/plain": [
       "<Figure size 432x288 with 1 Axes>"
      ]
     },
     "metadata": {
      "needs_background": "light"
     },
     "output_type": "display_data"
    }
   ],
   "source": [
    "PlotPercentiles(chuva_means, cdfs)\n",
    "\n",
    "thinkplot.Config(xlabel=\"Chuva\", ylabel='Residual', xlim=[0, 500], legend=True)"
   ]
  },
  {
   "cell_type": "code",
   "execution_count": 10,
   "metadata": {},
   "outputs": [
    {
     "name": "stdout",
     "output_type": "stream",
     "text": [
      "Média Residual:  -0.0 \n",
      "Desvio Padrão:  87.8841\n"
     ]
    }
   ],
   "source": [
    "print('Média Residual: ', round(dados_month.Residuos.mean(), 4), \n",
    "      '\\nDesvio Padrão: ', round(dados_month.Residuos.std(), 4))"
   ]
  },
  {
   "cell_type": "markdown",
   "metadata": {},
   "source": [
    "- Idealmente, essas linhas deveriam ser planas, indicando que os resíduos são aleatórios;\n",
    "- E paralelas, indicando que a variância dos resíduos é a mesma para todas as faixas;\n",
    "- O gráfico não ficou no formato ideal, isso pode ter acontecido devido ao baixo número de dados."
   ]
  },
  {
   "cell_type": "markdown",
   "metadata": {},
   "source": [
    "## Estimação"
   ]
  },
  {
   "cell_type": "markdown",
   "metadata": {},
   "source": [
    "- Os parâmetros inter e slope são estimativas baseadas em uma amostra; como isso são vulneráveis a:\n",
    "    - Viés de amostragem: causado por amostragem não representativa;\n",
    "    - Erro de medição: o erro de medição é causado por erros na coleta e registro de dados;\n",
    "    - Erro de amostragem: resultado da medição de uma amostra em vez de toda a população."
   ]
  },
  {
   "cell_type": "code",
   "execution_count": 11,
   "metadata": {},
   "outputs": [],
   "source": [
    "def SamplingDistributions(dados, iters=101):\n",
    "    \n",
    "    t = []\n",
    "    for _ in range(iters):\n",
    "        sample = thinkstats2.ResampleRows(dados)\n",
    "        chuva = sample[\"1455008\"]\n",
    "        vazao = sample[\"66231000\"]\n",
    "        estimates = thinkstats2.LeastSquares(chuva, vazao)\n",
    "        t.append(estimates)\n",
    "\n",
    "    inters, slopes = zip(*t)\n",
    "    return inters, slopes"
   ]
  },
  {
   "cell_type": "code",
   "execution_count": 12,
   "metadata": {},
   "outputs": [],
   "source": [
    "inters, slopes = SamplingDistributions(dados_month, iters=1001)"
   ]
  },
  {
   "cell_type": "code",
   "execution_count": 13,
   "metadata": {},
   "outputs": [],
   "source": [
    "def Summarize(estimates, actual=None):\n",
    "    mean = thinkstats2.Mean(estimates)\n",
    "    stderr = thinkstats2.Std(estimates, mu=actual)\n",
    "    cdf = thinkstats2.Cdf(estimates)\n",
    "    ci = cdf.ConfidenceInterval(90)\n",
    "    print('mean: ', mean,  \n",
    "          '\\nSE: ',stderr, \n",
    "          '\\nCI: ', ci)"
   ]
  },
  {
   "cell_type": "code",
   "execution_count": 14,
   "metadata": {},
   "outputs": [
    {
     "name": "stdout",
     "output_type": "stream",
     "text": [
      "mean:  98.46069494026139 \n",
      "SE:  8.304162496390244 \n",
      "CI:  (85.40617618538866, 112.88865545911558)\n"
     ]
    }
   ],
   "source": [
    "Summarize(inters)"
   ]
  },
  {
   "cell_type": "code",
   "execution_count": 15,
   "metadata": {},
   "outputs": [
    {
     "name": "stdout",
     "output_type": "stream",
     "text": [
      "mean:  0.748415715406996 \n",
      "SE:  0.08691983498302186 \n",
      "CI:  (0.6051122682669127, 0.8864839723919666)\n"
     ]
    }
   ],
   "source": [
    "Summarize(slopes)"
   ]
  },
  {
   "cell_type": "code",
   "execution_count": 16,
   "metadata": {},
   "outputs": [],
   "source": [
    "def PlotConfidenceIntervals(xs, inters, slopes, percent=90, **options):\n",
    "    fys_seq = []\n",
    "    for inter, slope in zip(inters, slopes):\n",
    "        fxs, fys = thinkstats2.FitLine(xs, inter, slope)\n",
    "        fys_seq.append(fys)\n",
    "\n",
    "    p = (100 - percent) / 2\n",
    "    percents = p, 100 - p\n",
    "    low, high = thinkstats2.PercentileRows(fys_seq, percents)\n",
    "    thinkplot.FillBetween(fxs, low, high, **options)"
   ]
  },
  {
   "cell_type": "code",
   "execution_count": 17,
   "metadata": {},
   "outputs": [
    {
     "ename": "ValueError",
     "evalue": "could not broadcast input array from shape (9,3) into shape (9)",
     "output_type": "error",
     "traceback": [
      "\u001b[0;31m---------------------------------------------------------------------------\u001b[0m",
      "\u001b[0;31mValueError\u001b[0m                                Traceback (most recent call last)",
      "\u001b[0;32m<ipython-input-17-e115b7494df1>\u001b[0m in \u001b[0;36m<module>\u001b[0;34m\u001b[0m\n\u001b[1;32m      1\u001b[0m PlotConfidenceIntervals(chuva_means, inters, slopes, percent=90, \n\u001b[0;32m----> 2\u001b[0;31m                         color='gray', alpha=0.3, label='90% CI')\n\u001b[0m\u001b[1;32m      3\u001b[0m PlotConfidenceIntervals(chuva_means, inters, slopes, percent=50,\n\u001b[1;32m      4\u001b[0m                         color='gray', alpha=0.5, label='50% CI')\n\u001b[1;32m      5\u001b[0m \u001b[0;34m\u001b[0m\u001b[0m\n",
      "\u001b[0;32m<ipython-input-16-03168eb665f6>\u001b[0m in \u001b[0;36mPlotConfidenceIntervals\u001b[0;34m(xs, inters, slopes, percent, **options)\u001b[0m\n\u001b[1;32m      7\u001b[0m     \u001b[0mp\u001b[0m \u001b[0;34m=\u001b[0m \u001b[0;34m(\u001b[0m\u001b[0;36m100\u001b[0m \u001b[0;34m-\u001b[0m \u001b[0mpercent\u001b[0m\u001b[0;34m)\u001b[0m \u001b[0;34m/\u001b[0m \u001b[0;36m2\u001b[0m\u001b[0;34m\u001b[0m\u001b[0;34m\u001b[0m\u001b[0m\n\u001b[1;32m      8\u001b[0m     \u001b[0mpercents\u001b[0m \u001b[0;34m=\u001b[0m \u001b[0mp\u001b[0m\u001b[0;34m,\u001b[0m \u001b[0;36m100\u001b[0m \u001b[0;34m-\u001b[0m \u001b[0mp\u001b[0m\u001b[0;34m\u001b[0m\u001b[0;34m\u001b[0m\u001b[0m\n\u001b[0;32m----> 9\u001b[0;31m     \u001b[0mlow\u001b[0m\u001b[0;34m,\u001b[0m \u001b[0mhigh\u001b[0m \u001b[0;34m=\u001b[0m \u001b[0mthinkstats2\u001b[0m\u001b[0;34m.\u001b[0m\u001b[0mPercentileRows\u001b[0m\u001b[0;34m(\u001b[0m\u001b[0mfys_seq\u001b[0m\u001b[0;34m,\u001b[0m \u001b[0mpercents\u001b[0m\u001b[0;34m)\u001b[0m\u001b[0;34m\u001b[0m\u001b[0;34m\u001b[0m\u001b[0m\n\u001b[0m\u001b[1;32m     10\u001b[0m     \u001b[0mthinkplot\u001b[0m\u001b[0;34m.\u001b[0m\u001b[0mFillBetween\u001b[0m\u001b[0;34m(\u001b[0m\u001b[0mfxs\u001b[0m\u001b[0;34m,\u001b[0m \u001b[0mlow\u001b[0m\u001b[0;34m,\u001b[0m \u001b[0mhigh\u001b[0m\u001b[0;34m,\u001b[0m \u001b[0;34m**\u001b[0m\u001b[0moptions\u001b[0m\u001b[0;34m)\u001b[0m\u001b[0;34m\u001b[0m\u001b[0;34m\u001b[0m\u001b[0m\n",
      "\u001b[0;32m~/Documents/Projetos/ThinkStats2/code/Estatística/thinkstats2.py\u001b[0m in \u001b[0;36mPercentileRows\u001b[0;34m(ys_seq, percents)\u001b[0m\n\u001b[1;32m   2957\u001b[0m \u001b[0;34m\u001b[0m\u001b[0m\n\u001b[1;32m   2958\u001b[0m     \u001b[0;32mfor\u001b[0m \u001b[0mi\u001b[0m\u001b[0;34m,\u001b[0m \u001b[0mys\u001b[0m \u001b[0;32min\u001b[0m \u001b[0menumerate\u001b[0m\u001b[0;34m(\u001b[0m\u001b[0mys_seq\u001b[0m\u001b[0;34m)\u001b[0m\u001b[0;34m:\u001b[0m\u001b[0;34m\u001b[0m\u001b[0;34m\u001b[0m\u001b[0m\n\u001b[0;32m-> 2959\u001b[0;31m         \u001b[0marray\u001b[0m\u001b[0;34m[\u001b[0m\u001b[0mi\u001b[0m\u001b[0;34m,\u001b[0m\u001b[0;34m]\u001b[0m \u001b[0;34m=\u001b[0m \u001b[0mys\u001b[0m\u001b[0;34m\u001b[0m\u001b[0;34m\u001b[0m\u001b[0m\n\u001b[0m\u001b[1;32m   2960\u001b[0m \u001b[0;34m\u001b[0m\u001b[0m\n\u001b[1;32m   2961\u001b[0m     \u001b[0marray\u001b[0m \u001b[0;34m=\u001b[0m \u001b[0mnp\u001b[0m\u001b[0;34m.\u001b[0m\u001b[0msort\u001b[0m\u001b[0;34m(\u001b[0m\u001b[0marray\u001b[0m\u001b[0;34m,\u001b[0m \u001b[0maxis\u001b[0m\u001b[0;34m=\u001b[0m\u001b[0;36m0\u001b[0m\u001b[0;34m)\u001b[0m\u001b[0;34m\u001b[0m\u001b[0;34m\u001b[0m\u001b[0m\n",
      "\u001b[0;31mValueError\u001b[0m: could not broadcast input array from shape (9,3) into shape (9)"
     ]
    }
   ],
   "source": [
    "PlotConfidenceIntervals(chuva_means, inters, slopes, percent=90, \n",
    "                        color='gray', alpha=0.3, label='90% CI')\n",
    "PlotConfidenceIntervals(chuva_means, inters, slopes, percent=50,\n",
    "                        color='gray', alpha=0.5, label='50% CI')\n",
    "\n",
    "thinkplot.Config(xlabel=\"Chuva (mm)\", ylabel='Vazão (mm)', xlim=[70, 500])"
   ]
  },
  {
   "cell_type": "markdown",
   "metadata": {},
   "source": [
    "## Bondade de ajuste"
   ]
  },
  {
   "cell_type": "markdown",
   "metadata": {},
   "source": [
    "- **Desvio padrão dos resíduos** é a maneira mais simples de medir a bondade do ajuste;\n",
    "- Outra forma de medir a bondade de ajuste é o **coeficiente de determinação**;\n",
    "- O coeficiente compara a variância dos resíduos com a variância da variável dependente;\n"
   ]
  },
  {
   "cell_type": "code",
   "execution_count": 18,
   "metadata": {},
   "outputs": [
    {
     "data": {
      "text/plain": [
       "0.383540170575809"
      ]
     },
     "execution_count": 18,
     "metadata": {},
     "output_type": "execute_result"
    }
   ],
   "source": [
    "r2 = thinkstats2.CoefDetermination(dados_chuva, res)\n",
    "r2"
   ]
  },
  {
   "cell_type": "markdown",
   "metadata": {},
   "source": [
    "- Os dados de chuva responde por cerca de 38% dos dados de vazão;\n",
    "- Existe uma **relação simples** entre o **coeficiente de determinação** e o **coeficiente de correlação de Pearson**:\n",
    "    - O valor de $R^{2} \\approx \\rho^{2}$"
   ]
  },
  {
   "cell_type": "code",
   "execution_count": null,
   "metadata": {},
   "outputs": [],
   "source": [
    "print('rho', thinkstats2.Corr(dados_chuva, dados_vazao))\n",
    "print('R', np.sqrt(r2))   "
   ]
  },
  {
   "cell_type": "markdown",
   "metadata": {},
   "source": [
    "## Testando um modelo linear"
   ]
  },
  {
   "cell_type": "markdown",
   "metadata": {},
   "source": [
    "Uma opção é testar se a aparente redução da MSE se deve ao acaso. \n",
    " - Estatística do teste é $R^{2}$ e a hipótese nula é que não há relação entre as variáveis;\n",
    " - Um teste unilateral de $R_{2}$ é equivalente a um teste bilateral de $\\rho$;\n",
    " - Outra abordagem é testar se a inclinação aparente se deve ao acaso."
   ]
  },
  {
   "cell_type": "code",
   "execution_count": null,
   "metadata": {},
   "outputs": [],
   "source": [
    "class SlopeTest(thinkstats2.HypothesisTest):\n",
    "\n",
    "    def TestStatistic(self, data):\n",
    "        chuva, vazao = data\n",
    "        _, slope = thinkstats2.LeastSquares(chuva, vazao)\n",
    "        return slope\n",
    "\n",
    "    def MakeModel(self):\n",
    "        _, vazao= self.data\n",
    "        self.ybar = vazao.mean()\n",
    "        self.res = vazao - self.ybar\n",
    "\n",
    "    def RunModel(self):\n",
    "        chuva, _ = self.data\n",
    "        vazao = self.ybar + np.random.permutation(self.res)\n",
    "        return chuva, vazao"
   ]
  },
  {
   "cell_type": "markdown",
   "metadata": {},
   "source": [
    "- A **estatística do teste** é a **inclinação** estimada pelo LeastSquares"
   ]
  },
  {
   "cell_type": "code",
   "execution_count": null,
   "metadata": {},
   "outputs": [],
   "source": [
    "ht = SlopeTest((dados_chuva, dados_vazao))\n",
    "pvalue = ht.PValue()"
   ]
  },
  {
   "cell_type": "code",
   "execution_count": null,
   "metadata": {},
   "outputs": [],
   "source": [
    "pvalue"
   ]
  },
  {
   "cell_type": "markdown",
   "metadata": {},
   "source": [
    "- Podemos também utilizar a reamostragem para estimar a distribuição amostral da inclinação."
   ]
  },
  {
   "cell_type": "code",
   "execution_count": null,
   "metadata": {},
   "outputs": [],
   "source": [
    "reamostragem_cdf = thinkstats2.Cdf(slopes)"
   ]
  },
  {
   "cell_type": "code",
   "execution_count": null,
   "metadata": {},
   "outputs": [],
   "source": [
    "thinkplot.PrePlot(2)\n",
    "thinkplot.Plot([0, 0], [0, 1], color='0.8')\n",
    "ht.PlotCdf(label='Hipótese nula')\n",
    "\n",
    "thinkplot.Cdf(reamostragem_cdf, label='reamostragem')\n",
    "\n",
    "thinkplot.Config(xlabel='slope',\n",
    "                 ylabel='CDF',\n",
    "                 xlim=[-0.5, 1.25],\n",
    "                 legend=True, loc='upper left')"
   ]
  },
  {
   "cell_type": "markdown",
   "metadata": {},
   "source": [
    "Podemos calcular o valor-p de duas maneiras:\n",
    "- Calcular a probabilidade de a inclinação sob a hipótese nula exceder a inclinação observada;\n",
    "- Calcular a probabilidade de que a inclinação na distribuição amostral caia abaixo de 0. (Se a inclinação estimada fosse negativa, calcularíamos a probabilidade de que a inclinação na distribuição amostral excedesse 0.)"
   ]
  },
  {
   "cell_type": "code",
   "execution_count": 19,
   "metadata": {},
   "outputs": [
    {
     "data": {
      "text/plain": [
       "0"
      ]
     },
     "execution_count": 19,
     "metadata": {},
     "output_type": "execute_result"
    }
   ],
   "source": [
    "inters, slopes = SamplingDistributions(dados_month, iters=1000)\n",
    "slope_cdf = thinkstats2.Cdf(slopes)\n",
    "pvalue = slope_cdf[0]\n",
    "pvalue"
   ]
  },
  {
   "cell_type": "code",
   "execution_count": null,
   "metadata": {},
   "outputs": [],
   "source": []
  }
 ],
 "metadata": {
  "kernelspec": {
   "display_name": "Python 3",
   "language": "python",
   "name": "python3"
  },
  "language_info": {
   "codemirror_mode": {
    "name": "ipython",
    "version": 3
   },
   "file_extension": ".py",
   "mimetype": "text/x-python",
   "name": "python",
   "nbconvert_exporter": "python",
   "pygments_lexer": "ipython3",
   "version": "3.6.7"
  }
 },
 "nbformat": 4,
 "nbformat_minor": 2
}

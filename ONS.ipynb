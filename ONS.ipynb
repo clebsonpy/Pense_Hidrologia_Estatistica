{
 "cells": [
  {
   "cell_type": "code",
   "execution_count": 1,
   "metadata": {},
   "outputs": [],
   "source": [
    "def __read_lxs(self):\n",
    "    file_ons = os.path.join(self.path, self.name+'.xls')\n",
    "    data_flow = pd.read_excel(file_ons, shettname='Total', header=0, skiprows=5, index_col=0)\n",
    "    data_flow.drop(np.NaN, inplace=True)\n",
    "\n",
    "    aux = []\n",
    "    dic = {'jan': '1', 'fev': '2', 'mar': '3', 'abr': '4', 'mai': '5',\n",
    "           'jun': '6', 'jul': '7', 'ago': '8', 'set': '9', 'out': '10',\n",
    "           'nov': '11', 'dez': '12'\n",
    "           }\n",
    "    for i in data_flow.index:\n",
    "        aux.append(i.replace(i[-8:-5], dic[i[-8:-5]]))\n",
    "\n",
    "    data_flow.index = pd.to_datetime(aux, dayfirst=True)\n",
    "    code_column = [i.split(' (')[0] for i in data_flow.axes[1]]\n",
    "    data_flow.columns = code_column\n",
    "\n",
    "    return data_flow.astype(float)"
   ]
  },
  {
   "cell_type": "code",
   "execution_count": null,
   "metadata": {},
   "outputs": [],
   "source": []
  }
 ],
 "metadata": {
  "kernelspec": {
   "display_name": "Python 3",
   "language": "python",
   "name": "python3"
  },
  "language_info": {
   "codemirror_mode": {
    "name": "ipython",
    "version": 3
   },
   "file_extension": ".py",
   "mimetype": "text/x-python",
   "name": "python",
   "nbconvert_exporter": "python",
   "pygments_lexer": "ipython3",
   "version": "3.6.7"
  }
 },
 "nbformat": 4,
 "nbformat_minor": 2
}

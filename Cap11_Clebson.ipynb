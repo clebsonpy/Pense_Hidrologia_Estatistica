{
 "cells": [
  {
   "cell_type": "markdown",
   "metadata": {},
   "source": [
    "# Regressão(11) - Pense Estatística, 2º Edição.\n",
    "\n",
    "## Universidade Federal de Alagoas - UFAL\n",
    "## Centro de Tecnologia - CTEC\n",
    "## Programa de Pós-Graduação Recursos Hídricos e Saneamento - PPGRHS\n",
    "### Disciplina de Estatística\n",
    "\n",
    "Clebson Farias"
   ]
  },
  {
   "cell_type": "code",
   "execution_count": 1,
   "metadata": {},
   "outputs": [],
   "source": [
    "from __future__ import print_function, division\n",
    "\n",
    "%matplotlib inline\n",
    "\n",
    "import numpy as np\n",
    "import pandas as pd\n",
    "import matplotlib.pyplot as plt\n",
    "\n",
    "import thinkstats2\n",
    "import thinkplot"
   ]
  },
  {
   "cell_type": "code",
   "execution_count": 2,
   "metadata": {},
   "outputs": [
    {
     "data": {
      "text/html": [
       "<div>\n",
       "<style scoped>\n",
       "    .dataframe tbody tr th:only-of-type {\n",
       "        vertical-align: middle;\n",
       "    }\n",
       "\n",
       "    .dataframe tbody tr th {\n",
       "        vertical-align: top;\n",
       "    }\n",
       "\n",
       "    .dataframe thead th {\n",
       "        text-align: right;\n",
       "    }\n",
       "</style>\n",
       "<table border=\"1\" class=\"dataframe\">\n",
       "  <thead>\n",
       "    <tr style=\"text-align: right;\">\n",
       "      <th></th>\n",
       "      <th>COIMBRA_P</th>\n",
       "      <th>MANSO_JUS</th>\n",
       "      <th>COIMBRA_F</th>\n",
       "      <th>Evap_CUIABA</th>\n",
       "      <th>Evap_DIAM</th>\n",
       "      <th>Evap_RICAR</th>\n",
       "      <th>MANSO</th>\n",
       "    </tr>\n",
       "  </thead>\n",
       "  <tbody>\n",
       "    <tr>\n",
       "      <th>1982-01-01</th>\n",
       "      <td>0.0</td>\n",
       "      <td>NaN</td>\n",
       "      <td>248.865</td>\n",
       "      <td>2.3</td>\n",
       "      <td>1.2</td>\n",
       "      <td>NaN</td>\n",
       "      <td>243.0</td>\n",
       "    </tr>\n",
       "    <tr>\n",
       "      <th>1982-01-02</th>\n",
       "      <td>0.0</td>\n",
       "      <td>NaN</td>\n",
       "      <td>333.847</td>\n",
       "      <td>1.3</td>\n",
       "      <td>0.4</td>\n",
       "      <td>NaN</td>\n",
       "      <td>329.0</td>\n",
       "    </tr>\n",
       "    <tr>\n",
       "      <th>1982-01-03</th>\n",
       "      <td>0.0</td>\n",
       "      <td>NaN</td>\n",
       "      <td>295.620</td>\n",
       "      <td>2.9</td>\n",
       "      <td>1.1</td>\n",
       "      <td>NaN</td>\n",
       "      <td>290.0</td>\n",
       "    </tr>\n",
       "    <tr>\n",
       "      <th>1982-01-04</th>\n",
       "      <td>0.0</td>\n",
       "      <td>NaN</td>\n",
       "      <td>305.919</td>\n",
       "      <td>1.7</td>\n",
       "      <td>0.9</td>\n",
       "      <td>NaN</td>\n",
       "      <td>300.0</td>\n",
       "    </tr>\n",
       "    <tr>\n",
       "      <th>1982-01-05</th>\n",
       "      <td>0.0</td>\n",
       "      <td>NaN</td>\n",
       "      <td>387.954</td>\n",
       "      <td>3.7</td>\n",
       "      <td>1.9</td>\n",
       "      <td>NaN</td>\n",
       "      <td>386.0</td>\n",
       "    </tr>\n",
       "  </tbody>\n",
       "</table>\n",
       "</div>"
      ],
      "text/plain": [
       "            COIMBRA_P  MANSO_JUS  COIMBRA_F  Evap_CUIABA  Evap_DIAM  \\\n",
       "1982-01-01        0.0        NaN    248.865          2.3        1.2   \n",
       "1982-01-02        0.0        NaN    333.847          1.3        0.4   \n",
       "1982-01-03        0.0        NaN    295.620          2.9        1.1   \n",
       "1982-01-04        0.0        NaN    305.919          1.7        0.9   \n",
       "1982-01-05        0.0        NaN    387.954          3.7        1.9   \n",
       "\n",
       "            Evap_RICAR  MANSO  \n",
       "1982-01-01         NaN  243.0  \n",
       "1982-01-02         NaN  329.0  \n",
       "1982-01-03         NaN  290.0  \n",
       "1982-01-04         NaN  300.0  \n",
       "1982-01-05         NaN  386.0  "
      ]
     },
     "execution_count": 2,
     "metadata": {},
     "output_type": "execute_result"
    }
   ],
   "source": [
    "#Dados Manso\n",
    "dados = pd.read_csv(\"manso.csv\", index_col=0, parse_dates=True)\n",
    "evap = pd.read_csv(\"evaporacao.csv\", sep=';', index_col=\"Data\", parse_dates=True, dayfirst=True)[\"Evaporacao Piche\"].rename(\"Evap_CUIABA\")\n",
    "evap1 = pd.read_csv(\"evaporacao2.csv\", sep=';', index_col=\"Data\", parse_dates=True, dayfirst=True)[\"Evaporacao Piche\"].rename(\"Evap_RICAR\")\n",
    "evap2 = pd.read_csv(\"evaporacao3.csv\", sep=';', index_col=\"Data\", parse_dates=True, dayfirst=True)[\"Evaporacao Piche\"].rename(\"Evap_DIAM\")\n",
    "dados = dados.combine_first(pd.DataFrame(evap))\n",
    "dados = dados.combine_first(pd.DataFrame(evap1))\n",
    "dados = dados.combine_first(pd.DataFrame(evap2))\n",
    "date_start = pd.to_datetime(\"01/01/1982\", dayfirst=True)\n",
    "date_end = pd.to_datetime(\"31/12/1986\", dayfirst=True)\n",
    "dados = dados.loc[date_start:date_end]\n",
    "dados.rename(index=str, \n",
    "             columns={\"1455008\": \"COIMBRA_P\", \"66210000\": \"MANSO_JUS\", \"66231000\": \"COIMBRA_F\"}, \n",
    "             inplace=True)\n",
    "dados.index = pd.to_datetime(dados.index, errors='coerce')\n",
    "dados.head()"
   ]
  },
  {
   "cell_type": "code",
   "execution_count": 3,
   "metadata": {},
   "outputs": [
    {
     "data": {
      "text/html": [
       "<div>\n",
       "<style scoped>\n",
       "    .dataframe tbody tr th:only-of-type {\n",
       "        vertical-align: middle;\n",
       "    }\n",
       "\n",
       "    .dataframe tbody tr th {\n",
       "        vertical-align: top;\n",
       "    }\n",
       "\n",
       "    .dataframe thead th {\n",
       "        text-align: right;\n",
       "    }\n",
       "</style>\n",
       "<table border=\"1\" class=\"dataframe\">\n",
       "  <thead>\n",
       "    <tr style=\"text-align: right;\">\n",
       "      <th></th>\n",
       "      <th>Obs</th>\n",
       "      <th>Nat</th>\n",
       "      <th>Prec</th>\n",
       "      <th>Evap_CUIABA</th>\n",
       "    </tr>\n",
       "  </thead>\n",
       "  <tbody>\n",
       "    <tr>\n",
       "      <th>1982-01-31</th>\n",
       "      <td>399.868226</td>\n",
       "      <td>396.516129</td>\n",
       "      <td>195.2</td>\n",
       "      <td>83.3</td>\n",
       "    </tr>\n",
       "    <tr>\n",
       "      <th>1982-02-28</th>\n",
       "      <td>424.485036</td>\n",
       "      <td>435.642857</td>\n",
       "      <td>156.2</td>\n",
       "      <td>76.0</td>\n",
       "    </tr>\n",
       "    <tr>\n",
       "      <th>1982-03-31</th>\n",
       "      <td>394.772968</td>\n",
       "      <td>399.838710</td>\n",
       "      <td>78.6</td>\n",
       "      <td>76.9</td>\n",
       "    </tr>\n",
       "    <tr>\n",
       "      <th>1982-04-30</th>\n",
       "      <td>292.312400</td>\n",
       "      <td>293.500000</td>\n",
       "      <td>79.0</td>\n",
       "      <td>116.4</td>\n",
       "    </tr>\n",
       "    <tr>\n",
       "      <th>1982-05-31</th>\n",
       "      <td>142.554806</td>\n",
       "      <td>141.000000</td>\n",
       "      <td>0.0</td>\n",
       "      <td>110.4</td>\n",
       "    </tr>\n",
       "  </tbody>\n",
       "</table>\n",
       "</div>"
      ],
      "text/plain": [
       "                   Obs         Nat   Prec  Evap_CUIABA\n",
       "1982-01-31  399.868226  396.516129  195.2         83.3\n",
       "1982-02-28  424.485036  435.642857  156.2         76.0\n",
       "1982-03-31  394.772968  399.838710   78.6         76.9\n",
       "1982-04-30  292.312400  293.500000   79.0        116.4\n",
       "1982-05-31  142.554806  141.000000    0.0        110.4"
      ]
     },
     "execution_count": 3,
     "metadata": {},
     "output_type": "execute_result"
    }
   ],
   "source": [
    "dados_chuva = pd.Series(dados[\"COIMBRA_P\"].groupby(pd.Grouper(freq='M')).sum(), name='Prec')\n",
    "dados_vazao_obs = pd.Series(dados[\"COIMBRA_F\"].groupby(pd.Grouper(freq='M')).mean(), name='Obs') \n",
    "dados_vazao_nat = pd.Series(dados[\"MANSO\"].groupby(pd.Grouper(freq='M')).mean(), name='Nat')\n",
    "dados_evap = pd.Series(dados[\"Evap_CUIABA\"].groupby(pd.Grouper(freq='M')).sum())\n",
    "dados_month = pd.DataFrame([dados_vazao_obs, dados_vazao_nat, dados_chuva, dados_evap]).T\n",
    "dados_month.head()"
   ]
  },
  {
   "cell_type": "markdown",
   "metadata": {},
   "source": [
    "## Regressão"
   ]
  },
  {
   "cell_type": "markdown",
   "metadata": {},
   "source": [
    "**O objetivo da análise de regressão é descrever a relação entre um conjunto de variáveis**, **variáveis dependentes**, e outro conjunto de variáveis, **variáveis independentes/explicativas**.\n",
    "\n",
    "Se a relação entre a variável dependente e explanatória é linear, isto é, regressão linear.\n",
    "\n",
    "\\begin{equation}\n",
    "    y = \\beta_{0} + \\beta_{1}x_{1} + \\beta_{2}x_{2} + \\epsilon\n",
    "\\end{equation}\n",
    "\n",
    "onde,\n",
    "\n",
    "- $x_{1}$ and $x_{2}$ = Variable Explanatory\n",
    "- y = Variable Dependent\n",
    "- $\\beta_{0}$ = Intercept\n",
    "- $\\beta_{1}$ and $\\beta_{2}$  = Parameter associated\n",
    "- $\\epsilon$ = Residual\n",
    "\n",
    "Dada uma sequência de valores para y e sequência para $x_{1}$ and $x_{2}$, **podemos encontrar os parâmetros**, $\\beta_{0}$, $\\beta_{1}$, and $\\beta_{2}$, que minimiza a soma **$ε^{2}$**. Este processo pe chamado de **mínimos quadrados ordinários**."
   ]
  },
  {
   "cell_type": "markdown",
   "metadata": {},
   "source": [
    "## StatsModels\n",
    "\n",
    "- **StatsModels**, um pacote Python que fornece várias formas de regressão e outras análises. "
   ]
  },
  {
   "cell_type": "code",
   "execution_count": 4,
   "metadata": {},
   "outputs": [
    {
     "data": {
      "text/html": [
       "<table class=\"simpletable\">\n",
       "<caption>OLS Regression Results</caption>\n",
       "<tr>\n",
       "  <th>Dep. Variable:</th>           <td>Obs</td>       <th>  R-squared:         </th> <td>   0.994</td>\n",
       "</tr>\n",
       "<tr>\n",
       "  <th>Model:</th>                   <td>OLS</td>       <th>  Adj. R-squared:    </th> <td>   0.994</td>\n",
       "</tr>\n",
       "<tr>\n",
       "  <th>Method:</th>             <td>Least Squares</td>  <th>  F-statistic:       </th> <td>   9345.</td>\n",
       "</tr>\n",
       "<tr>\n",
       "  <th>Date:</th>             <td>Thu, 13 Jun 2019</td> <th>  Prob (F-statistic):</th> <td>8.60e-66</td>\n",
       "</tr>\n",
       "<tr>\n",
       "  <th>Time:</th>                 <td>16:32:06</td>     <th>  Log-Likelihood:    </th> <td> -216.49</td>\n",
       "</tr>\n",
       "<tr>\n",
       "  <th>No. Observations:</th>      <td>    60</td>      <th>  AIC:               </th> <td>   437.0</td>\n",
       "</tr>\n",
       "<tr>\n",
       "  <th>Df Residuals:</th>          <td>    58</td>      <th>  BIC:               </th> <td>   441.2</td>\n",
       "</tr>\n",
       "<tr>\n",
       "  <th>Df Model:</th>              <td>     1</td>      <th>                     </th>     <td> </td>   \n",
       "</tr>\n",
       "<tr>\n",
       "  <th>Covariance Type:</th>      <td>nonrobust</td>    <th>                     </th>     <td> </td>   \n",
       "</tr>\n",
       "</table>\n",
       "<table class=\"simpletable\">\n",
       "<tr>\n",
       "      <td></td>         <th>coef</th>     <th>std err</th>      <th>t</th>      <th>P>|t|</th>  <th>[0.025</th>    <th>0.975]</th>  \n",
       "</tr>\n",
       "<tr>\n",
       "  <th>Intercept</th> <td>    1.6086</td> <td>    2.241</td> <td>    0.718</td> <td> 0.476</td> <td>   -2.877</td> <td>    6.094</td>\n",
       "</tr>\n",
       "<tr>\n",
       "  <th>Nat</th>       <td>    0.9930</td> <td>    0.010</td> <td>   96.669</td> <td> 0.000</td> <td>    0.972</td> <td>    1.014</td>\n",
       "</tr>\n",
       "</table>\n",
       "<table class=\"simpletable\">\n",
       "<tr>\n",
       "  <th>Omnibus:</th>       <td>49.089</td> <th>  Durbin-Watson:     </th> <td>   1.585</td>\n",
       "</tr>\n",
       "<tr>\n",
       "  <th>Prob(Omnibus):</th> <td> 0.000</td> <th>  Jarque-Bera (JB):  </th> <td> 349.418</td>\n",
       "</tr>\n",
       "<tr>\n",
       "  <th>Skew:</th>          <td> 2.000</td> <th>  Prob(JB):          </th> <td>1.33e-76</td>\n",
       "</tr>\n",
       "<tr>\n",
       "  <th>Kurtosis:</th>      <td>14.125</td> <th>  Cond. No.          </th> <td>    417.</td>\n",
       "</tr>\n",
       "</table><br/><br/>Warnings:<br/>[1] Standard Errors assume that the covariance matrix of the errors is correctly specified."
      ],
      "text/plain": [
       "<class 'statsmodels.iolib.summary.Summary'>\n",
       "\"\"\"\n",
       "                            OLS Regression Results                            \n",
       "==============================================================================\n",
       "Dep. Variable:                    Obs   R-squared:                       0.994\n",
       "Model:                            OLS   Adj. R-squared:                  0.994\n",
       "Method:                 Least Squares   F-statistic:                     9345.\n",
       "Date:                Thu, 13 Jun 2019   Prob (F-statistic):           8.60e-66\n",
       "Time:                        16:32:06   Log-Likelihood:                -216.49\n",
       "No. Observations:                  60   AIC:                             437.0\n",
       "Df Residuals:                      58   BIC:                             441.2\n",
       "Df Model:                           1                                         \n",
       "Covariance Type:            nonrobust                                         \n",
       "==============================================================================\n",
       "                 coef    std err          t      P>|t|      [0.025      0.975]\n",
       "------------------------------------------------------------------------------\n",
       "Intercept      1.6086      2.241      0.718      0.476      -2.877       6.094\n",
       "Nat            0.9930      0.010     96.669      0.000       0.972       1.014\n",
       "==============================================================================\n",
       "Omnibus:                       49.089   Durbin-Watson:                   1.585\n",
       "Prob(Omnibus):                  0.000   Jarque-Bera (JB):              349.418\n",
       "Skew:                           2.000   Prob(JB):                     1.33e-76\n",
       "Kurtosis:                      14.125   Cond. No.                         417.\n",
       "==============================================================================\n",
       "\n",
       "Warnings:\n",
       "[1] Standard Errors assume that the covariance matrix of the errors is correctly specified.\n",
       "\"\"\""
      ]
     },
     "execution_count": 4,
     "metadata": {},
     "output_type": "execute_result"
    }
   ],
   "source": [
    "import statsmodels.formula.api as smf\n",
    "formula = \"Obs ~ Nat\"\n",
    "model = smf.ols(formula, data=dados_month)\n",
    "results = model.fit()\n",
    "results.summary()"
   ]
  },
  {
   "cell_type": "code",
   "execution_count": 5,
   "metadata": {},
   "outputs": [
    {
     "name": "stdout",
     "output_type": "stream",
     "text": [
      "Inter:  1.6085535341582107 \n",
      "Slope:  0.9930393807912127\n"
     ]
    }
   ],
   "source": [
    "inter = results.params['Intercept']\n",
    "slope = results.params['Nat']\n",
    "print('Inter: ', inter, '\\nSlope: ', slope)"
   ]
  },
  {
   "cell_type": "markdown",
   "metadata": {},
   "source": [
    "\\begin{equation}\n",
    "    y = 1.6086 + 0.99304 · x_{1} + \\epsilon\n",
    "\\end{equation}"
   ]
  },
  {
   "cell_type": "code",
   "execution_count": 6,
   "metadata": {},
   "outputs": [
    {
     "data": {
      "image/png": "[encoded data removed]",
      "text/plain": [
       "<Figure size 432x288 with 1 Axes>"
      ]
     },
     "metadata": {
      "needs_background": "light"
     },
     "output_type": "display_data"
    },
    {
     "data": {
      "text/plain": [
       "<Figure size 576x432 with 0 Axes>"
      ]
     },
     "metadata": {},
     "output_type": "display_data"
    }
   ],
   "source": [
    "fit_xs, fit_ys = thinkstats2.FitLine(dados_month[\"Nat\"], inter, slope)\n",
    "plt.plot(fit_xs, fit_ys)\n",
    "thinkplot.Scatter(dados_month[\"Nat\"], dados_month[\"Obs\"], color='red')\n",
    "thinkplot.Show(xlabel='Vazão_Nat', ylabel='Vazao_Obs', legend=False)"
   ]
  },
  {
   "cell_type": "code",
   "execution_count": 7,
   "metadata": {},
   "outputs": [
    {
     "data": {
      "text/plain": [
       "8.600756103710291e-66"
      ]
     },
     "execution_count": 7,
     "metadata": {},
     "output_type": "execute_result"
    }
   ],
   "source": [
    "slope_pvalue = results.pvalues['Nat']\n",
    "slope_pvalue"
   ]
  },
  {
   "cell_type": "code",
   "execution_count": 8,
   "metadata": {},
   "outputs": [
    {
     "data": {
      "text/plain": [
       "0.9938316585587954"
      ]
     },
     "execution_count": 8,
     "metadata": {},
     "output_type": "execute_result"
    }
   ],
   "source": [
    "r2 = results.rsquared\n",
    "r2"
   ]
  },
  {
   "cell_type": "code",
   "execution_count": 9,
   "metadata": {},
   "outputs": [
    {
     "data": {
      "text/plain": [
       "<matplotlib.axes._subplots.AxesSubplot at 0x7f7bb626e2e8>"
      ]
     },
     "execution_count": 9,
     "metadata": {},
     "output_type": "execute_result"
    },
    {
     "data": {
      "image/png": "[encoded data removed]",
      "text/plain": [
       "<Figure size 432x288 with 1 Axes>"
      ]
     },
     "metadata": {
      "needs_background": "light"
     },
     "output_type": "display_data"
    }
   ],
   "source": [
    "def predicao(df, param):\n",
    "    fit_ys = param[0] + param[1] * df.Nat\n",
    "    return fit_ys.rename(\"Calculada\")\n",
    "\n",
    "Q_obs = predicao(dados_month, [inter, slope])\n",
    "Q_obs.plot(legend=True)\n",
    "dados_month.Obs.plot(legend=True)"
   ]
  },
  {
   "cell_type": "markdown",
   "metadata": {},
   "source": [
    "## Regressões Multiplas"
   ]
  },
  {
   "cell_type": "markdown",
   "metadata": {},
   "source": [
    "Podemos ajustar um único modelo que inclui **duas variáveis**. Com a fórmula **MANSO ~ COIMBRA_F + COIMBRA_P**, obtemos:"
   ]
  },
  {
   "cell_type": "code",
   "execution_count": 10,
   "metadata": {},
   "outputs": [
    {
     "data": {
      "text/html": [
       "<table class=\"simpletable\">\n",
       "<caption>OLS Regression Results</caption>\n",
       "<tr>\n",
       "  <th>Dep. Variable:</th>           <td>Nat</td>       <th>  R-squared:         </th> <td>   0.994</td>\n",
       "</tr>\n",
       "<tr>\n",
       "  <th>Model:</th>                   <td>OLS</td>       <th>  Adj. R-squared:    </th> <td>   0.994</td>\n",
       "</tr>\n",
       "<tr>\n",
       "  <th>Method:</th>             <td>Least Squares</td>  <th>  F-statistic:       </th> <td>   4593.</td>\n",
       "</tr>\n",
       "<tr>\n",
       "  <th>Date:</th>             <td>Thu, 13 Jun 2019</td> <th>  Prob (F-statistic):</th> <td>1.04e-63</td>\n",
       "</tr>\n",
       "<tr>\n",
       "  <th>Time:</th>                 <td>16:32:07</td>     <th>  Log-Likelihood:    </th> <td> -216.72</td>\n",
       "</tr>\n",
       "<tr>\n",
       "  <th>No. Observations:</th>      <td>    60</td>      <th>  AIC:               </th> <td>   439.4</td>\n",
       "</tr>\n",
       "<tr>\n",
       "  <th>Df Residuals:</th>          <td>    57</td>      <th>  BIC:               </th> <td>   445.7</td>\n",
       "</tr>\n",
       "<tr>\n",
       "  <th>Df Model:</th>              <td>     2</td>      <th>                     </th>     <td> </td>   \n",
       "</tr>\n",
       "<tr>\n",
       "  <th>Covariance Type:</th>      <td>nonrobust</td>    <th>                     </th>     <td> </td>   \n",
       "</tr>\n",
       "</table>\n",
       "<table class=\"simpletable\">\n",
       "<tr>\n",
       "      <td></td>         <th>coef</th>     <th>std err</th>      <th>t</th>      <th>P>|t|</th>  <th>[0.025</th>    <th>0.975]</th>  \n",
       "</tr>\n",
       "<tr>\n",
       "  <th>Intercept</th> <td>   -0.4414</td> <td>    2.290</td> <td>   -0.193</td> <td> 0.848</td> <td>   -5.027</td> <td>    4.144</td>\n",
       "</tr>\n",
       "<tr>\n",
       "  <th>Obs</th>       <td>    1.0015</td> <td>    0.013</td> <td>   76.962</td> <td> 0.000</td> <td>    0.975</td> <td>    1.028</td>\n",
       "</tr>\n",
       "<tr>\n",
       "  <th>Prec</th>      <td>   -0.0014</td> <td>    0.015</td> <td>   -0.094</td> <td> 0.925</td> <td>   -0.032</td> <td>    0.029</td>\n",
       "</tr>\n",
       "</table>\n",
       "<table class=\"simpletable\">\n",
       "<tr>\n",
       "  <th>Omnibus:</th>       <td>46.109</td> <th>  Durbin-Watson:     </th> <td>   1.604</td>\n",
       "</tr>\n",
       "<tr>\n",
       "  <th>Prob(Omnibus):</th> <td> 0.000</td> <th>  Jarque-Bera (JB):  </th> <td> 328.953</td>\n",
       "</tr>\n",
       "<tr>\n",
       "  <th>Skew:</th>          <td>-1.824</td> <th>  Prob(JB):          </th> <td>3.71e-72</td>\n",
       "</tr>\n",
       "<tr>\n",
       "  <th>Kurtosis:</th>      <td>13.875</td> <th>  Cond. No.          </th> <td>    489.</td>\n",
       "</tr>\n",
       "</table><br/><br/>Warnings:<br/>[1] Standard Errors assume that the covariance matrix of the errors is correctly specified."
      ],
      "text/plain": [
       "<class 'statsmodels.iolib.summary.Summary'>\n",
       "\"\"\"\n",
       "                            OLS Regression Results                            \n",
       "==============================================================================\n",
       "Dep. Variable:                    Nat   R-squared:                       0.994\n",
       "Model:                            OLS   Adj. R-squared:                  0.994\n",
       "Method:                 Least Squares   F-statistic:                     4593.\n",
       "Date:                Thu, 13 Jun 2019   Prob (F-statistic):           1.04e-63\n",
       "Time:                        16:32:07   Log-Likelihood:                -216.72\n",
       "No. Observations:                  60   AIC:                             439.4\n",
       "Df Residuals:                      57   BIC:                             445.7\n",
       "Df Model:                           2                                         \n",
       "Covariance Type:            nonrobust                                         \n",
       "==============================================================================\n",
       "                 coef    std err          t      P>|t|      [0.025      0.975]\n",
       "------------------------------------------------------------------------------\n",
       "Intercept     -0.4414      2.290     -0.193      0.848      -5.027       4.144\n",
       "Obs            1.0015      0.013     76.962      0.000       0.975       1.028\n",
       "Prec          -0.0014      0.015     -0.094      0.925      -0.032       0.029\n",
       "==============================================================================\n",
       "Omnibus:                       46.109   Durbin-Watson:                   1.604\n",
       "Prob(Omnibus):                  0.000   Jarque-Bera (JB):              328.953\n",
       "Skew:                          -1.824   Prob(JB):                     3.71e-72\n",
       "Kurtosis:                      13.875   Cond. No.                         489.\n",
       "==============================================================================\n",
       "\n",
       "Warnings:\n",
       "[1] Standard Errors assume that the covariance matrix of the errors is correctly specified.\n",
       "\"\"\""
      ]
     },
     "execution_count": 10,
     "metadata": {},
     "output_type": "execute_result"
    }
   ],
   "source": [
    "formula = \"Nat ~ Obs + Prec\"\n",
    "model = smf.ols(formula, data=dados_month)\n",
    "results = model.fit()\n",
    "results.summary()"
   ]
  },
  {
   "cell_type": "code",
   "execution_count": 11,
   "metadata": {},
   "outputs": [
    {
     "name": "stdout",
     "output_type": "stream",
     "text": [
      "Inter:  -0.4413975226150768 \n",
      "Slope1:  1.0015274341139355 \n",
      "Slope2:  -0.0014457054647695096\n"
     ]
    }
   ],
   "source": [
    "inter = results.params['Intercept']\n",
    "slope1 = results.params['Obs']\n",
    "slope2 = results.params['Prec']\n",
    "print('Inter: ', inter, '\\nSlope1: ', slope1, '\\nSlope2: ', slope2)"
   ]
  },
  {
   "cell_type": "markdown",
   "metadata": {},
   "source": [
    "\\begin{equation}\n",
    "    y(x_{1}, x_{2}) = -0,4414 + 1,00153 · x_{1} - 0,0145 · x_{2} + \\epsilon\n",
    "\\end{equation}"
   ]
  },
  {
   "cell_type": "code",
   "execution_count": 12,
   "metadata": {},
   "outputs": [
    {
     "data": {
      "image/png": "[encoded data removed]",
      "text/plain": [
       "<Figure size 432x288 with 1 Axes>"
      ]
     },
     "metadata": {
      "needs_background": "light"
     },
     "output_type": "display_data"
    },
    {
     "data": {
      "text/plain": [
       "<Figure size 576x432 with 0 Axes>"
      ]
     },
     "metadata": {},
     "output_type": "display_data"
    }
   ],
   "source": [
    "def FitLine2(xs, xs2, inter, slope, slope2):\n",
    "    #fit_xs = np.sort(xs)\n",
    "    #fit_xs2 = np.sort(xs2)\n",
    "    fit_ys = inter + slope * xs + slope2 * xs2\n",
    "    return xs, fit_ys\n",
    "\n",
    "fit_xs, fit_ys = FitLine2(dados_month[\"Obs\"], dados_month[\"Prec\"], inter, slope1, slope2)\n",
    "plt.plot(fit_xs, fit_ys)\n",
    "thinkplot.Scatter(dados_month[\"Obs\"], dados_month[\"Nat\"], color='red')\n",
    "thinkplot.Show(xlabel='Vazão_Obs', ylabel='Vazao_Nat', legend=False)"
   ]
  },
  {
   "cell_type": "code",
   "execution_count": 13,
   "metadata": {},
   "outputs": [
    {
     "name": "stdout",
     "output_type": "stream",
     "text": [
      "p-Value (Slope1):  2.6931034254474936e-59 \n",
      "p-Value (Slope2):  0.9254731592105461\n"
     ]
    }
   ],
   "source": [
    "slope1_pvalue = results.pvalues['Obs']\n",
    "slope2_pvalue = results.pvalues['Prec']\n",
    "print('p-Value (Slope1): ', slope1_pvalue, '\\np-Value (Slope2): ', slope2_pvalue) "
   ]
  },
  {
   "cell_type": "code",
   "execution_count": 14,
   "metadata": {},
   "outputs": [
    {
     "data": {
      "text/plain": [
       "0.9938326137285051"
      ]
     },
     "execution_count": 14,
     "metadata": {},
     "output_type": "execute_result"
    }
   ],
   "source": [
    "r2 = results.rsquared\n",
    "r2"
   ]
  },
  {
   "cell_type": "markdown",
   "metadata": {},
   "source": [
    "Podemos ajustar um único modelo que inclui três variáveis. Com a fórmula **MANSO ~ COIMBRA_F + COIMBRA_P + EVAPORAÇÃO**, obtemos:"
   ]
  },
  {
   "cell_type": "code",
   "execution_count": 15,
   "metadata": {},
   "outputs": [
    {
     "data": {
      "text/html": [
       "<table class=\"simpletable\">\n",
       "<caption>OLS Regression Results</caption>\n",
       "<tr>\n",
       "  <th>Dep. Variable:</th>           <td>Obs</td>       <th>  R-squared:         </th> <td>   0.995</td>\n",
       "</tr>\n",
       "<tr>\n",
       "  <th>Model:</th>                   <td>OLS</td>       <th>  Adj. R-squared:    </th> <td>   0.994</td>\n",
       "</tr>\n",
       "<tr>\n",
       "  <th>Method:</th>             <td>Least Squares</td>  <th>  F-statistic:       </th> <td>   3547.</td>\n",
       "</tr>\n",
       "<tr>\n",
       "  <th>Date:</th>             <td>Thu, 13 Jun 2019</td> <th>  Prob (F-statistic):</th> <td>8.14e-64</td>\n",
       "</tr>\n",
       "<tr>\n",
       "  <th>Time:</th>                 <td>16:32:08</td>     <th>  Log-Likelihood:    </th> <td> -211.57</td>\n",
       "</tr>\n",
       "<tr>\n",
       "  <th>No. Observations:</th>      <td>    60</td>      <th>  AIC:               </th> <td>   431.1</td>\n",
       "</tr>\n",
       "<tr>\n",
       "  <th>Df Residuals:</th>          <td>    56</td>      <th>  BIC:               </th> <td>   439.5</td>\n",
       "</tr>\n",
       "<tr>\n",
       "  <th>Df Model:</th>              <td>     3</td>      <th>                     </th>     <td> </td>   \n",
       "</tr>\n",
       "<tr>\n",
       "  <th>Covariance Type:</th>      <td>nonrobust</td>    <th>                     </th>     <td> </td>   \n",
       "</tr>\n",
       "</table>\n",
       "<table class=\"simpletable\">\n",
       "<tr>\n",
       "       <td></td>          <th>coef</th>     <th>std err</th>      <th>t</th>      <th>P>|t|</th>  <th>[0.025</th>    <th>0.975]</th>  \n",
       "</tr>\n",
       "<tr>\n",
       "  <th>Intercept</th>   <td>   24.3639</td> <td>    7.664</td> <td>    3.179</td> <td> 0.002</td> <td>    9.012</td> <td>   39.716</td>\n",
       "</tr>\n",
       "<tr>\n",
       "  <th>Nat</th>         <td>    0.9618</td> <td>    0.015</td> <td>   64.904</td> <td> 0.000</td> <td>    0.932</td> <td>    0.992</td>\n",
       "</tr>\n",
       "<tr>\n",
       "  <th>Prec</th>        <td>    0.0039</td> <td>    0.014</td> <td>    0.274</td> <td> 0.785</td> <td>   -0.025</td> <td>    0.033</td>\n",
       "</tr>\n",
       "<tr>\n",
       "  <th>Evap_CUIABA</th> <td>   -0.1443</td> <td>    0.046</td> <td>   -3.107</td> <td> 0.003</td> <td>   -0.237</td> <td>   -0.051</td>\n",
       "</tr>\n",
       "</table>\n",
       "<table class=\"simpletable\">\n",
       "<tr>\n",
       "  <th>Omnibus:</th>       <td>36.683</td> <th>  Durbin-Watson:     </th> <td>   1.819</td>\n",
       "</tr>\n",
       "<tr>\n",
       "  <th>Prob(Omnibus):</th> <td> 0.000</td> <th>  Jarque-Bera (JB):  </th> <td> 228.910</td>\n",
       "</tr>\n",
       "<tr>\n",
       "  <th>Skew:</th>          <td> 1.362</td> <th>  Prob(JB):          </th> <td>1.96e-50</td>\n",
       "</tr>\n",
       "<tr>\n",
       "  <th>Kurtosis:</th>      <td>12.173</td> <th>  Cond. No.          </th> <td>1.89e+03</td>\n",
       "</tr>\n",
       "</table><br/><br/>Warnings:<br/>[1] Standard Errors assume that the covariance matrix of the errors is correctly specified.<br/>[2] The condition number is large, 1.89e+03. This might indicate that there are<br/>strong multicollinearity or other numerical problems."
      ],
      "text/plain": [
       "<class 'statsmodels.iolib.summary.Summary'>\n",
       "\"\"\"\n",
       "                            OLS Regression Results                            \n",
       "==============================================================================\n",
       "Dep. Variable:                    Obs   R-squared:                       0.995\n",
       "Model:                            OLS   Adj. R-squared:                  0.994\n",
       "Method:                 Least Squares   F-statistic:                     3547.\n",
       "Date:                Thu, 13 Jun 2019   Prob (F-statistic):           8.14e-64\n",
       "Time:                        16:32:08   Log-Likelihood:                -211.57\n",
       "No. Observations:                  60   AIC:                             431.1\n",
       "Df Residuals:                      56   BIC:                             439.5\n",
       "Df Model:                           3                                         \n",
       "Covariance Type:            nonrobust                                         \n",
       "===============================================================================\n",
       "                  coef    std err          t      P>|t|      [0.025      0.975]\n",
       "-------------------------------------------------------------------------------\n",
       "Intercept      24.3639      7.664      3.179      0.002       9.012      39.716\n",
       "Nat             0.9618      0.015     64.904      0.000       0.932       0.992\n",
       "Prec            0.0039      0.014      0.274      0.785      -0.025       0.033\n",
       "Evap_CUIABA    -0.1443      0.046     -3.107      0.003      -0.237      -0.051\n",
       "==============================================================================\n",
       "Omnibus:                       36.683   Durbin-Watson:                   1.819\n",
       "Prob(Omnibus):                  0.000   Jarque-Bera (JB):              228.910\n",
       "Skew:                           1.362   Prob(JB):                     1.96e-50\n",
       "Kurtosis:                      12.173   Cond. No.                     1.89e+03\n",
       "==============================================================================\n",
       "\n",
       "Warnings:\n",
       "[1] Standard Errors assume that the covariance matrix of the errors is correctly specified.\n",
       "[2] The condition number is large, 1.89e+03. This might indicate that there are\n",
       "strong multicollinearity or other numerical problems.\n",
       "\"\"\""
      ]
     },
     "execution_count": 15,
     "metadata": {},
     "output_type": "execute_result"
    }
   ],
   "source": [
    "formula = \"Obs ~ Nat + Prec + Evap_CUIABA\"\n",
    "model = smf.ols(formula, data=dados_month)\n",
    "results = model.fit()\n",
    "results.summary()"
   ]
  },
  {
   "cell_type": "code",
   "execution_count": 16,
   "metadata": {},
   "outputs": [
    {
     "name": "stdout",
     "output_type": "stream",
     "text": [
      "Inter:  24.363915114364495 \n",
      "Slope1:  0.9618295437310675 \n",
      "Slope2:  0.003911896297715045 \n",
      "Slope3:  -0.1442717574094482\n"
     ]
    }
   ],
   "source": [
    "inter = results.params['Intercept']\n",
    "slope1 = results.params['Nat']\n",
    "slope2 = results.params['Prec']\n",
    "slope3 = results.params['Evap_CUIABA']\n",
    "print('Inter: ', inter, '\\nSlope1: ', slope1, '\\nSlope2: ', slope2, '\\nSlope3: ', slope3)"
   ]
  },
  {
   "cell_type": "markdown",
   "metadata": {},
   "source": [
    "\\begin{equation}\n",
    "    y(x_{1}, x_{2}, x_{3}) = 24,3639 + 0,96183 · x_{1} + 0,003912 · x_{2} - 0.1443 · x_{3} + \\epsilon\n",
    "\\end{equation}"
   ]
  },
  {
   "cell_type": "code",
   "execution_count": 17,
   "metadata": {},
   "outputs": [
    {
     "data": {
      "image/png": "[encoded data removed]",
      "text/plain": [
       "<Figure size 432x288 with 1 Axes>"
      ]
     },
     "metadata": {
      "needs_background": "light"
     },
     "output_type": "display_data"
    },
    {
     "data": {
      "text/plain": [
       "<Figure size 576x432 with 0 Axes>"
      ]
     },
     "metadata": {},
     "output_type": "display_data"
    }
   ],
   "source": [
    "fit = pd.DataFrame(results.predict(dados_month), columns=['Obs2'])\n",
    "dados_month = dados_month.combine_first(fit)\n",
    "\n",
    "dados_month = dados_month.sort_values(by='Nat')\n",
    "plt.plot(dados_month['Nat'], dados_month['Obs2'])\n",
    "thinkplot.Scatter(dados_month[\"Nat\"], dados_month[\"Obs\"], color='red')\n",
    "thinkplot.Show(xlabel='Vazão_Nat', ylabel='Vazao_Obs', legend=True)"
   ]
  },
  {
   "cell_type": "code",
   "execution_count": 18,
   "metadata": {},
   "outputs": [
    {
     "name": "stdout",
     "output_type": "stream",
     "text": [
      "p-Value (Slope1):  2.1378819956410238e-54 \n",
      "p-Value (Slope2):  0.7851071371247828 \n",
      "p-Value (Slope3):  0.002968180027950839\n"
     ]
    }
   ],
   "source": [
    "slope1_pvalue = results.pvalues['Nat']\n",
    "slope2_pvalue = results.pvalues['Prec']\n",
    "slope3_pvalue = results.pvalues['Evap_CUIABA']\n",
    "print('p-Value (Slope1): ', slope1_pvalue, \n",
    "      '\\np-Value (Slope2): ', slope2_pvalue, \n",
    "      '\\np-Value (Slope3): ', slope3_pvalue) "
   ]
  },
  {
   "cell_type": "code",
   "execution_count": 19,
   "metadata": {},
   "outputs": [
    {
     "data": {
      "text/plain": [
       "0.9947647765506302"
      ]
     },
     "execution_count": 19,
     "metadata": {},
     "output_type": "execute_result"
    }
   ],
   "source": [
    "r2 = results.rsquared\n",
    "r2"
   ]
  },
  {
   "cell_type": "code",
   "execution_count": 20,
   "metadata": {},
   "outputs": [
    {
     "data": {
      "text/plain": [
       "<matplotlib.axes._subplots.AxesSubplot at 0x7f7bb60bc668>"
      ]
     },
     "execution_count": 20,
     "metadata": {},
     "output_type": "execute_result"
    },
    {
     "data": {
      "image/png": "[encoded data removed]",
      "text/plain": [
       "<Figure size 432x288 with 1 Axes>"
      ]
     },
     "metadata": {
      "needs_background": "light"
     },
     "output_type": "display_data"
    }
   ],
   "source": [
    "def predicao(df, param):\n",
    "    fit_ys = param[0] + param[1] * df.Nat + param[2] * df.Prec + param[3] * df.Evap_CUIABA\n",
    "    return fit_ys.rename(\"Calculada\")\n",
    "\n",
    "Q_obs = predicao(dados_month, [inter, slope1, slope2, slope3])\n",
    "Q_obs.plot(legend=True)\n",
    "dados_month.Obs.plot(legend=True)"
   ]
  },
  {
   "cell_type": "markdown",
   "metadata": {},
   "source": [
    "## Exploração dos dados"
   ]
  },
  {
   "cell_type": "markdown",
   "metadata": {},
   "source": [
    "Um dos problema importante na análise de regressão é **selecionar os conjutos de variáveis independentes** a ser usado no modelo;\n",
    "\n",
    "Selecionar um conjutos apropriados de regressores;\n",
    "\n",
    "Filtrar os dados para obter os melhores regressores;\n",
    "\n",
    "Usar o menor número de regressores possível, fazendo o modelo obter o custo mínimo de manuntenção;\n",
    "\n",
    "**Método**\n",
    "- Calcular p valor de $R^2$ para todas as variáveis;\n",
    "- Verifica quais variáveis tem uma variabilidade;\n",
    "- Observa se o conjunto de dados apresenta falhas;"
   ]
  },
  {
   "cell_type": "markdown",
   "metadata": {},
   "source": [
    "## Previsão"
   ]
  },
  {
   "cell_type": "markdown",
   "metadata": {},
   "source": [
    "Usando dados diários:"
   ]
  },
  {
   "cell_type": "code",
   "execution_count": 21,
   "metadata": {},
   "outputs": [
    {
     "data": {
      "text/html": [
       "<table class=\"simpletable\">\n",
       "<caption>OLS Regression Results</caption>\n",
       "<tr>\n",
       "  <th>Dep. Variable:</th>        <td>COIMBRA_F</td>    <th>  R-squared:         </th> <td>   0.978</td> \n",
       "</tr>\n",
       "<tr>\n",
       "  <th>Model:</th>                   <td>OLS</td>       <th>  Adj. R-squared:    </th> <td>   0.978</td> \n",
       "</tr>\n",
       "<tr>\n",
       "  <th>Method:</th>             <td>Least Squares</td>  <th>  F-statistic:       </th> <td>2.730e+04</td>\n",
       "</tr>\n",
       "<tr>\n",
       "  <th>Date:</th>             <td>Thu, 13 Jun 2019</td> <th>  Prob (F-statistic):</th>  <td>  0.00</td>  \n",
       "</tr>\n",
       "<tr>\n",
       "  <th>Time:</th>                 <td>16:32:08</td>     <th>  Log-Likelihood:    </th> <td> -8231.5</td> \n",
       "</tr>\n",
       "<tr>\n",
       "  <th>No. Observations:</th>      <td>  1826</td>      <th>  AIC:               </th> <td>1.647e+04</td>\n",
       "</tr>\n",
       "<tr>\n",
       "  <th>Df Residuals:</th>          <td>  1822</td>      <th>  BIC:               </th> <td>1.649e+04</td>\n",
       "</tr>\n",
       "<tr>\n",
       "  <th>Df Model:</th>              <td>     3</td>      <th>                     </th>     <td> </td>    \n",
       "</tr>\n",
       "<tr>\n",
       "  <th>Covariance Type:</th>      <td>nonrobust</td>    <th>                     </th>     <td> </td>    \n",
       "</tr>\n",
       "</table>\n",
       "<table class=\"simpletable\">\n",
       "<tr>\n",
       "       <td></td>          <th>coef</th>     <th>std err</th>      <th>t</th>      <th>P>|t|</th>  <th>[0.025</th>    <th>0.975]</th>  \n",
       "</tr>\n",
       "<tr>\n",
       "  <th>Intercept</th>   <td>   17.5797</td> <td>    1.399</td> <td>   12.566</td> <td> 0.000</td> <td>   14.836</td> <td>   20.324</td>\n",
       "</tr>\n",
       "<tr>\n",
       "  <th>MANSO</th>       <td>    0.9388</td> <td>    0.004</td> <td>  260.805</td> <td> 0.000</td> <td>    0.932</td> <td>    0.946</td>\n",
       "</tr>\n",
       "<tr>\n",
       "  <th>COIMBRA_P</th>   <td>    0.2083</td> <td>    0.055</td> <td>    3.771</td> <td> 0.000</td> <td>    0.100</td> <td>    0.317</td>\n",
       "</tr>\n",
       "<tr>\n",
       "  <th>Evap_CUIABA</th> <td>   -1.6915</td> <td>    0.239</td> <td>   -7.076</td> <td> 0.000</td> <td>   -2.160</td> <td>   -1.223</td>\n",
       "</tr>\n",
       "</table>\n",
       "<table class=\"simpletable\">\n",
       "<tr>\n",
       "  <th>Omnibus:</th>       <td>869.812</td> <th>  Durbin-Watson:     </th> <td>   0.911</td> \n",
       "</tr>\n",
       "<tr>\n",
       "  <th>Prob(Omnibus):</th> <td> 0.000</td>  <th>  Jarque-Bera (JB):  </th> <td>37396.526</td>\n",
       "</tr>\n",
       "<tr>\n",
       "  <th>Skew:</th>          <td> 1.519</td>  <th>  Prob(JB):          </th> <td>    0.00</td> \n",
       "</tr>\n",
       "<tr>\n",
       "  <th>Kurtosis:</th>      <td>24.961</td>  <th>  Cond. No.          </th> <td>    663.</td> \n",
       "</tr>\n",
       "</table><br/><br/>Warnings:<br/>[1] Standard Errors assume that the covariance matrix of the errors is correctly specified."
      ],
      "text/plain": [
       "<class 'statsmodels.iolib.summary.Summary'>\n",
       "\"\"\"\n",
       "                            OLS Regression Results                            \n",
       "==============================================================================\n",
       "Dep. Variable:              COIMBRA_F   R-squared:                       0.978\n",
       "Model:                            OLS   Adj. R-squared:                  0.978\n",
       "Method:                 Least Squares   F-statistic:                 2.730e+04\n",
       "Date:                Thu, 13 Jun 2019   Prob (F-statistic):               0.00\n",
       "Time:                        16:32:08   Log-Likelihood:                -8231.5\n",
       "No. Observations:                1826   AIC:                         1.647e+04\n",
       "Df Residuals:                    1822   BIC:                         1.649e+04\n",
       "Df Model:                           3                                         \n",
       "Covariance Type:            nonrobust                                         \n",
       "===============================================================================\n",
       "                  coef    std err          t      P>|t|      [0.025      0.975]\n",
       "-------------------------------------------------------------------------------\n",
       "Intercept      17.5797      1.399     12.566      0.000      14.836      20.324\n",
       "MANSO           0.9388      0.004    260.805      0.000       0.932       0.946\n",
       "COIMBRA_P       0.2083      0.055      3.771      0.000       0.100       0.317\n",
       "Evap_CUIABA    -1.6915      0.239     -7.076      0.000      -2.160      -1.223\n",
       "==============================================================================\n",
       "Omnibus:                      869.812   Durbin-Watson:                   0.911\n",
       "Prob(Omnibus):                  0.000   Jarque-Bera (JB):            37396.526\n",
       "Skew:                           1.519   Prob(JB):                         0.00\n",
       "Kurtosis:                      24.961   Cond. No.                         663.\n",
       "==============================================================================\n",
       "\n",
       "Warnings:\n",
       "[1] Standard Errors assume that the covariance matrix of the errors is correctly specified.\n",
       "\"\"\""
      ]
     },
     "execution_count": 21,
     "metadata": {},
     "output_type": "execute_result"
    }
   ],
   "source": [
    "formula = \"COIMBRA_F ~ MANSO + COIMBRA_P + Evap_CUIABA\"\n",
    "model = smf.ols(formula, data=dados)\n",
    "results = model.fit()\n",
    "results.summary()"
   ]
  },
  {
   "cell_type": "code",
   "execution_count": 22,
   "metadata": {},
   "outputs": [
    {
     "name": "stdout",
     "output_type": "stream",
     "text": [
      "Inter:  17.579689802129074 \n",
      "Slope1:  0.9387709458209541 \n",
      "Slope2:  0.20826540374814656 \n",
      "Slope3:  -1.6915454569330144\n"
     ]
    }
   ],
   "source": [
    "inter = results.params['Intercept']\n",
    "slope1 = results.params['MANSO']\n",
    "slope2 = results.params['COIMBRA_P']\n",
    "slope3 = results.params['Evap_CUIABA']\n",
    "print('Inter: ', inter, '\\nSlope1: ', slope1, '\\nSlope2: ', slope2, '\\nSlope3: ', slope3)"
   ]
  },
  {
   "cell_type": "markdown",
   "metadata": {},
   "source": [
    "\\begin{equation}\n",
    "    y(x_{1}, x_{2}, x_{3}) = 17,5797 + 0,9388 · x_{1} + 0,2083 · x_{2} - 1,69155 · x_{3} + \\epsilon\n",
    "\\end{equation}"
   ]
  },
  {
   "cell_type": "code",
   "execution_count": 23,
   "metadata": {},
   "outputs": [
    {
     "data": {
      "image/png": "[encoded data removed]",
      "text/plain": [
       "<Figure size 432x288 with 1 Axes>"
      ]
     },
     "metadata": {
      "needs_background": "light"
     },
     "output_type": "display_data"
    },
    {
     "data": {
      "text/plain": [
       "<Figure size 576x432 with 0 Axes>"
      ]
     },
     "metadata": {},
     "output_type": "display_data"
    }
   ],
   "source": [
    "def FitLine2(xs, xs2, xs3, inter, slope, slope2, slope3):\n",
    "    fit_xs = np.sort(xs)\n",
    "    fit_xs2 = np.sort(xs2)\n",
    "    fit_xs3 = np.sort(xs3)\n",
    "    fit_ys = inter + slope * fit_xs + slope2 * fit_xs2 + slope3 * fit_xs3\n",
    "    return fit_xs, fit_ys\n",
    "\n",
    "fit_xs, fit_ys = FitLine2(dados[\"MANSO\"], dados[\"COIMBRA_P\"], dados[\"Evap_CUIABA\"], inter, slope1, slope2, slope3)\n",
    "plt.plot(fit_xs, fit_ys)\n",
    "thinkplot.Scatter(dados[\"MANSO\"], dados[\"COIMBRA_F\"], color='red')\n",
    "thinkplot.Show(xlabel='Vazão_Nat', ylabel='Vazao_Obs', legend=False)"
   ]
  },
  {
   "cell_type": "code",
   "execution_count": 24,
   "metadata": {},
   "outputs": [
    {
     "name": "stdout",
     "output_type": "stream",
     "text": [
      "p-Value (Slope1):  0.0 \n",
      "p-Value (Slope2):  0.00016775475717749949 \n",
      "p-Value (Slope3):  2.1056320912247925e-12\n"
     ]
    }
   ],
   "source": [
    "slope1_pvalue = results.pvalues['MANSO']\n",
    "slope2_pvalue = results.pvalues['COIMBRA_P']\n",
    "slope3_pvalue = results.pvalues['Evap_CUIABA']\n",
    "print('p-Value (Slope1): ', slope1_pvalue, \n",
    "      '\\np-Value (Slope2): ', slope2_pvalue, \n",
    "      '\\np-Value (Slope3): ', slope3_pvalue) "
   ]
  },
  {
   "cell_type": "code",
   "execution_count": 25,
   "metadata": {},
   "outputs": [
    {
     "data": {
      "text/plain": [
       "0.9782404413408452"
      ]
     },
     "execution_count": 25,
     "metadata": {},
     "output_type": "execute_result"
    }
   ],
   "source": [
    "r2 = results.rsquared\n",
    "r2"
   ]
  },
  {
   "cell_type": "code",
   "execution_count": 26,
   "metadata": {},
   "outputs": [
    {
     "data": {
      "text/plain": [
       "<matplotlib.axes._subplots.AxesSubplot at 0x7f7bb5fb2438>"
      ]
     },
     "execution_count": 26,
     "metadata": {},
     "output_type": "execute_result"
    },
    {
     "data": {
      "image/png": "[encoded data removed]",
      "text/plain": [
       "<Figure size 432x288 with 1 Axes>"
      ]
     },
     "metadata": {
      "needs_background": "light"
     },
     "output_type": "display_data"
    }
   ],
   "source": [
    "def predicao(df, param):\n",
    "    fit_ys = param[0] + param[1] * df.MANSO + param[2] * df.COIMBRA_P + param[3] * df.Evap_CUIABA\n",
    "    return fit_ys.rename(\"Calculada\")\n",
    "\n",
    "Q_obs = predicao(dados, [inter, slope1, slope2, slope3])\n",
    "Q_obs.plot(legend=True)\n",
    "dados.COIMBRA_F.plot(legend=True)"
   ]
  },
  {
   "cell_type": "markdown",
   "metadata": {},
   "source": [
    "Fazer gráfico de diferença;"
   ]
  },
  {
   "cell_type": "markdown",
   "metadata": {},
   "source": [
    "## Regressão logística"
   ]
  },
  {
   "cell_type": "markdown",
   "metadata": {},
   "source": [
    "A **regressão linear** pode ser generalizada para lidar com outros **tipos de variáveis dependentes**.\n",
    "- **Regressão logística**: Variável dependente for booleana\n",
    "- **Regressão de Poisson**: Variável dependente é uma contagem inteira\n",
    "\n",
    "Variáveis **qualitativas** ou **indicativas**;"
   ]
  },
  {
   "cell_type": "markdown",
   "metadata": {},
   "source": [
    "## Estimação de parâmetros"
   ]
  },
  {
   "cell_type": "markdown",
   "metadata": {},
   "source": [
    "- A regrassão logística não tem uma **solução fechada**;\n",
    "- Precisa ser resolvida **iterativamente**;\n"
   ]
  },
  {
   "cell_type": "markdown",
   "metadata": {},
   "source": [
    "Ver exemplo para aplicação de regressão logística para a hidrologia"
   ]
  },
  {
   "cell_type": "markdown",
   "metadata": {},
   "source": [
    "## Precisão"
   ]
  },
  {
   "cell_type": "markdown",
   "metadata": {},
   "source": [
    "- Numero de previsões de sucesso, comparado com que esperaríamos por acaso;\n"
   ]
  },
  {
   "cell_type": "code",
   "execution_count": 27,
   "metadata": {},
   "outputs": [],
   "source": [
    "predict = results.predict()\n",
    "sum_pre = predict.sum()\n",
    "sum_re = dados[\"COIMBRA_F\"].sum()"
   ]
  },
  {
   "cell_type": "code",
   "execution_count": 28,
   "metadata": {},
   "outputs": [
    {
     "data": {
      "text/plain": [
       "1.9126285075619082e-13"
      ]
     },
     "execution_count": 28,
     "metadata": {},
     "output_type": "execute_result"
    }
   ],
   "source": [
    "acc = abs((sum_pre-sum_re)/len(dados))\n",
    "acc"
   ]
  }
 ],
 "metadata": {
  "kernelspec": {
   "display_name": "Python 3",
   "language": "python",
   "name": "python3"
  },
  "language_info": {
   "codemirror_mode": {
    "name": "ipython",
    "version": 3
   },
   "file_extension": ".py",
   "mimetype": "text/x-python",
   "name": "python",
   "nbconvert_exporter": "python",
   "pygments_lexer": "ipython3",
   "version": "3.6.7"
  }
 },
 "nbformat": 4,
 "nbformat_minor": 2
}

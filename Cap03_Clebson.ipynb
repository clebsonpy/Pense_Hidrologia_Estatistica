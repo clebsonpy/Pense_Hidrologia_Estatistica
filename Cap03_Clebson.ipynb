{
 "cells": [
  {
   "cell_type": "markdown",
   "metadata": {},
   "source": [
    "# Função de Massa de Probabilidade(Cap3) - Pense Estatística, 2º Edição.\n",
    "\n",
    "## Universidade Federal de Alagoas - UFAL\n",
    "## Centro de Tecnologia - CTEC\n",
    "## Programa de Pós-Graduação Recursos Hídricos e Saneamento - PPGRHS\n",
    "### Disciplina de Estatística\n",
    "\n",
    "Clebson Farias"
   ]
  },
  {
   "cell_type": "code",
   "execution_count": 2,
   "metadata": {},
   "outputs": [],
   "source": [
    "from __future__ import print_function, division\n",
    "\n",
    "%matplotlib inline\n",
    "\n",
    "import numpy as np\n",
    "import pandas as pd\n",
    "\n",
    "import thinkstats2\n",
    "import thinkplot"
   ]
  },
  {
   "cell_type": "markdown",
   "metadata": {},
   "source": [
    "# Pmfs\n",
    "- A Função de Massa de Probabilidade (PMF) é uma maneira de representar uma distribuição;\n",
    "- PMF mapeia as probabilidade de cada valor;\n",
    "- Probabilidade é a divisão da frequência pelo tamanho da amostra;"
   ]
  },
  {
   "cell_type": "code",
   "execution_count": 3,
   "metadata": {},
   "outputs": [
    {
     "data": {
      "text/html": [
       "<div>\n",
       "<style scoped>\n",
       "    .dataframe tbody tr th:only-of-type {\n",
       "        vertical-align: middle;\n",
       "    }\n",
       "\n",
       "    .dataframe tbody tr th {\n",
       "        vertical-align: top;\n",
       "    }\n",
       "\n",
       "    .dataframe thead th {\n",
       "        text-align: right;\n",
       "    }\n",
       "</style>\n",
       "<table border=\"1\" class=\"dataframe\">\n",
       "  <thead>\n",
       "    <tr style=\"text-align: right;\">\n",
       "      <th></th>\n",
       "      <th>Date</th>\n",
       "      <th>Dados</th>\n",
       "    </tr>\n",
       "  </thead>\n",
       "  <tbody>\n",
       "    <tr>\n",
       "      <th>NaT</th>\n",
       "      <td>NAT</td>\n",
       "      <td>OBS</td>\n",
       "    </tr>\n",
       "    <tr>\n",
       "      <th>1995-01-01</th>\n",
       "      <td>2941.0</td>\n",
       "      <td>1771.0</td>\n",
       "    </tr>\n",
       "    <tr>\n",
       "      <th>1995-01-02</th>\n",
       "      <td>3093.0</td>\n",
       "      <td>1769.0</td>\n",
       "    </tr>\n",
       "    <tr>\n",
       "      <th>1995-01-03</th>\n",
       "      <td>3251.0</td>\n",
       "      <td>1902.0</td>\n",
       "    </tr>\n",
       "    <tr>\n",
       "      <th>1995-01-04</th>\n",
       "      <td>3784.0</td>\n",
       "      <td>2360.0</td>\n",
       "    </tr>\n",
       "  </tbody>\n",
       "</table>\n",
       "</div>"
      ],
      "text/plain": [
       "              Date   Dados\n",
       "NaT            NAT     OBS\n",
       "1995-01-01  2941.0  1771.0\n",
       "1995-01-02  3093.0  1769.0\n",
       "1995-01-03  3251.0  1902.0\n",
       "1995-01-04  3784.0  2360.0"
      ]
     },
     "execution_count": 3,
     "metadata": {},
     "output_type": "execute_result"
    }
   ],
   "source": [
    "dados = pd.read_csv('dadosXingo.csv', index_col=0, names=[\"Date\", \"Dados\"], parse_dates=True)\n",
    "dados.head()"
   ]
  },
  {
   "cell_type": "code",
   "execution_count": 4,
   "metadata": {},
   "outputs": [],
   "source": [
    "valores = dados.Dados\n",
    "pmf = thinkstats2.Pmf(valores)"
   ]
  },
  {
   "cell_type": "markdown",
   "metadata": {},
   "source": [
    "- O Pmf é normalizado, então a probabilidade total é 1.0."
   ]
  },
  {
   "cell_type": "code",
   "execution_count": 5,
   "metadata": {},
   "outputs": [
    {
     "data": {
      "text/plain": [
       "1.0000000000000389"
      ]
     },
     "execution_count": 5,
     "metadata": {},
     "output_type": "execute_result"
    }
   ],
   "source": [
    "pmf.Total()"
   ]
  },
  {
   "cell_type": "markdown",
   "metadata": {},
   "source": [
    "Pmf e Hist são objetos similires em muitos aspectos;\n",
    "A diferneça é:\n",
    "- Hist contabiliza valores inteiros;\n",
    "- PMF contabiliza probabilidades de ponto flutuantes;"
   ]
  },
  {
   "cell_type": "markdown",
   "metadata": {},
   "source": [
    "# Plotting PMFs\n",
    "- Gráficos de barras são muitos usados para pmf com pouco valores;\n",
    "- Plotar uma função são usados para pmf com muitos valores;"
   ]
  },
  {
   "cell_type": "code",
   "execution_count": null,
   "metadata": {},
   "outputs": [],
   "source": [
    "thinkplot.PrePlot(2, cols=2)\n",
    "thinkplot.Hist(pmf)\n",
    "thinkplot.Config(xlabel='Vazão', ylabel='Probabilidade')\n",
    "\n",
    "thinkplot.PrePlot(2)\n",
    "thinkplot.SubPlot(2)\n",
    "thinkplot.Pmfs([pmf])\n",
    "thinkplot.Show(xlabel='Vazão', ylabel='Probabilidade')"
   ]
  },
  {
   "cell_type": "markdown",
   "metadata": {},
   "source": [
    "# Other visualizations\n",
    "- Histogramas e Pmfs são usados para obter padrões e relacionamentos;"
   ]
  },
  {
   "cell_type": "markdown",
   "metadata": {},
   "source": [
    "# O paradoxo do tamanho da classe\n",
    "?\n"
   ]
  },
  {
   "cell_type": "markdown",
   "metadata": {},
   "source": [
    "# Glossário\n",
    "- Função de massa de probabilidade (PMF): Uma representação de uma função que mapeia os valores de probabilidades.\n",
    "- Probabilidade: Uma frequência expressada como uma fração do tamanho da amostra.\n",
    "- Normalização: O processo de dividir uma frequencia pelo tamanho da amostra para obter a probabilidade.\n",
    "- Index: Em um DataFrame pandas, o index é uma coluna especial que contém o rótulo de uma linha."
   ]
  },
  {
   "cell_type": "code",
   "execution_count": null,
   "metadata": {},
   "outputs": [],
   "source": []
  }
 ],
 "metadata": {
  "kernelspec": {
   "display_name": "Python 3",
   "language": "python",
   "name": "python3"
  },
  "language_info": {
   "codemirror_mode": {
    "name": "ipython",
    "version": 3
   },
   "file_extension": ".py",
   "mimetype": "text/x-python",
   "name": "python",
   "nbconvert_exporter": "python",
   "pygments_lexer": "ipython3",
   "version": "3.6.7"
  }
 },
 "nbformat": 4,
 "nbformat_minor": 2
}

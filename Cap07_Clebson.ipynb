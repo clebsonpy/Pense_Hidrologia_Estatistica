{
 "cells": [
  {
   "cell_type": "markdown",
   "metadata": {},
   "source": [
    "# Relacionamento entre variáveis(Cap7) - Pense Estatística, 2º Edição.\n",
    "\n",
    "## Universidade Federal de Alagoas - UFAL\n",
    "## Centro de Tecnologia - CTEC\n",
    "## Programa de Pós-Graduação Recursos Hídricos e Saneamento - PPGRHS\n",
    "### Disciplina de Estatística\n",
    "\n",
    "Clebson Farias"
   ]
  },
  {
   "cell_type": "code",
   "execution_count": null,
   "metadata": {},
   "outputs": [],
   "source": []
  },
  {
   "cell_type": "code",
   "execution_count": 2,
   "metadata": {},
   "outputs": [],
   "source": [
    "from __future__ import print_function, division\n",
    "\n",
    "%matplotlib inline\n",
    "\n",
    "import numpy as np\n",
    "import pandas as pd\n",
    "\n",
    "import thinkstats2\n",
    "import thinkplot"
   ]
  },
  {
   "cell_type": "markdown",
   "metadata": {},
   "source": [
    "* Duas variáveis estão relacionadas quando uma variável fornece informações sobre a outra;\n",
    "* A relação não precisa ser perfeitas, mas ao conhecer uma variável, poderemos estimar melhor a outra; "
   ]
  },
  {
   "cell_type": "code",
   "execution_count": 4,
   "metadata": {},
   "outputs": [
    {
     "data": {
      "text/html": [
       "<div>\n",
       "<style scoped>\n",
       "    .dataframe tbody tr th:only-of-type {\n",
       "        vertical-align: middle;\n",
       "    }\n",
       "\n",
       "    .dataframe tbody tr th {\n",
       "        vertical-align: top;\n",
       "    }\n",
       "\n",
       "    .dataframe thead th {\n",
       "        text-align: right;\n",
       "    }\n",
       "</style>\n",
       "<table border=\"1\" class=\"dataframe\">\n",
       "  <thead>\n",
       "    <tr style=\"text-align: right;\">\n",
       "      <th></th>\n",
       "      <th>1455008</th>\n",
       "      <th>66231000</th>\n",
       "      <th>MANSO</th>\n",
       "    </tr>\n",
       "    <tr>\n",
       "      <th>Date</th>\n",
       "      <th></th>\n",
       "      <th></th>\n",
       "      <th></th>\n",
       "    </tr>\n",
       "  </thead>\n",
       "  <tbody>\n",
       "    <tr>\n",
       "      <th>1981-07-12</th>\n",
       "      <td>0.0</td>\n",
       "      <td>90.928</td>\n",
       "      <td>NaN</td>\n",
       "    </tr>\n",
       "    <tr>\n",
       "      <th>1981-07-13</th>\n",
       "      <td>0.0</td>\n",
       "      <td>94.663</td>\n",
       "      <td>NaN</td>\n",
       "    </tr>\n",
       "    <tr>\n",
       "      <th>1981-07-14</th>\n",
       "      <td>0.0</td>\n",
       "      <td>93.413</td>\n",
       "      <td>NaN</td>\n",
       "    </tr>\n",
       "    <tr>\n",
       "      <th>1981-07-15</th>\n",
       "      <td>0.0</td>\n",
       "      <td>92.168</td>\n",
       "      <td>NaN</td>\n",
       "    </tr>\n",
       "    <tr>\n",
       "      <th>1981-07-16</th>\n",
       "      <td>0.0</td>\n",
       "      <td>92.168</td>\n",
       "      <td>NaN</td>\n",
       "    </tr>\n",
       "  </tbody>\n",
       "</table>\n",
       "</div>"
      ],
      "text/plain": [
       "            1455008  66231000  MANSO\n",
       "Date                                \n",
       "1981-07-12      0.0    90.928    NaN\n",
       "1981-07-13      0.0    94.663    NaN\n",
       "1981-07-14      0.0    93.413    NaN\n",
       "1981-07-15      0.0    92.168    NaN\n",
       "1981-07-16      0.0    92.168    NaN"
      ]
     },
     "execution_count": 4,
     "metadata": {},
     "output_type": "execute_result"
    }
   ],
   "source": [
    "dados = pd.read_csv(\"manso.csv\", index_col=0, parse_dates=True)\n",
    "dados.head()"
   ]
  },
  {
   "cell_type": "markdown",
   "metadata": {},
   "source": [
    "* 1455008 - FAZENDA RAIZAMA (Plu)\n",
    "* 66231000 - FAZENDA RAIZAMA (Flu)"
   ]
  },
  {
   "cell_type": "markdown",
   "metadata": {},
   "source": [
    "## 7.1 Gráfico de dispersão\n",
    "* Opção mais simples para verificar relação entre duas variáveis;\n",
    "* Consiste no lançamento dos pares de observações das variáveis que se deseja verificar a relação;\n",
    "* Para o exemplo foram consideradas as variáveis de vazão naturais e observadas para o posto de Xingo;\n",
    "* Fornece uma impressão geral sobre o relacionamento entre variáveis;"
   ]
  },
  {
   "cell_type": "code",
   "execution_count": 5,
   "metadata": {},
   "outputs": [
    {
     "data": {
      "image/png": "[encoded data removed]",
      "text/plain": [
       "<Figure size 432x288 with 1 Axes>"
      ]
     },
     "metadata": {
      "needs_background": "light"
     },
     "output_type": "display_data"
    },
    {
     "data": {
      "text/plain": [
       "<Figure size 576x432 with 0 Axes>"
      ]
     },
     "metadata": {},
     "output_type": "display_data"
    }
   ],
   "source": [
    "dados_chuva = dados[\"1455008\"].groupby(pd.Grouper(freq='M')).sum()\n",
    "dados_vazao = dados[\"66231000\"].groupby(pd.Grouper(freq='M')).mean()\n",
    "dados_month = pd.DataFrame([dados_chuva, dados_vazao])\n",
    "\n",
    "thinkplot.Scatter(dados_chuva, dados_vazao)\n",
    "thinkplot.Show(xlabel='Chuva', ylabel='Vazao', legend=False)\n",
    "dados_month = dados_month.T"
   ]
  },
  {
   "cell_type": "markdown",
   "metadata": {},
   "source": [
    "* Podemos observar que existe alguma relação entre as variáveis, mas podemos notar algumas aleatoriedade entre as variáveis de chuva e vazão.\n",
    "* A variável de vazão não depende somente da variável de chuva;"
   ]
  },
  {
   "cell_type": "markdown",
   "metadata": {},
   "source": [
    "#### HexBin"
   ]
  },
  {
   "cell_type": "code",
   "execution_count": 6,
   "metadata": {},
   "outputs": [
    {
     "data": {
      "image/png": "[encoded data removed]",
      "text/plain": [
       "<Figure size 432x288 with 1 Axes>"
      ]
     },
     "metadata": {
      "needs_background": "light"
     },
     "output_type": "display_data"
    },
    {
     "data": {
      "text/plain": [
       "<Figure size 576x432 with 0 Axes>"
      ]
     },
     "metadata": {},
     "output_type": "display_data"
    }
   ],
   "source": [
    "thinkplot.HexBin(dados_chuva, dados_vazao)\n",
    "thinkplot.Show(xlabel='Chuva', ylabel='Vazao', legend=False)"
   ]
  },
  {
   "cell_type": "markdown",
   "metadata": {},
   "source": [
    "* Uma vantagem do HexBin é que ele mostra bem a forma do relacionamento;\n",
    "* É eficiente para grande quantidades de dados;"
   ]
  },
  {
   "cell_type": "markdown",
   "metadata": {},
   "source": [
    "## 7.2 Caracterizando relacionamentos"
   ]
  },
  {
   "cell_type": "markdown",
   "metadata": {},
   "source": [
    "* Outras formas de visualização fornece um maior conhecimento da natureza do relacionamento; \n",
    " * Uma opção é uma variável bin e outra é o gráfico de percentis;"
   ]
  },
  {
   "cell_type": "code",
   "execution_count": 7,
   "metadata": {},
   "outputs": [],
   "source": [
    "dados_month = dados_month.dropna(subset=[\"1455008\", \"66231000\"])\n",
    "bins = np.arange(0, 400, 40)\n",
    "indices = np.digitize(dados_month[\"1455008\"], bins)\n",
    "groups = dados_month.groupby(indices)"
   ]
  },
  {
   "cell_type": "code",
   "execution_count": 8,
   "metadata": {},
   "outputs": [],
   "source": [
    "mean_chuva = [group[\"1455008\"].mean() for i, group in groups]\n",
    "cdfs = [thinkstats2.Cdf(group[\"66231000\"]) for i, group in groups]"
   ]
  },
  {
   "cell_type": "code",
   "execution_count": 9,
   "metadata": {},
   "outputs": [
    {
     "data": {
      "image/png": "[encoded data removed]",
      "text/plain": [
       "<Figure size 432x288 with 1 Axes>"
      ]
     },
     "metadata": {
      "needs_background": "light"
     },
     "output_type": "display_data"
    }
   ],
   "source": [
    "for percent in [75, 50, 25]:\n",
    "    vazao_percentiles = [cdf.Percentile(percent) for cdf in cdfs]\n",
    "    label = '%dth' % percent\n",
    "    thinkplot.Plot(mean_chuva, vazao_percentiles, label=label)\n",
    "    \n",
    "thinkplot.Config(xlabel='Chuva',\n",
    "                 ylabel='Vazao',\n",
    "                 legend=True)"
   ]
  },
  {
   "cell_type": "markdown",
   "metadata": {},
   "source": [
    "## 7.3  Correlação\n",
    "* Utilizada para **quantificar a força** de relacionamento entre duas variáveis;\n",
    "* Um dos problemas para medir a relação entre duas variáveis é que muitas vezes elas não apresentam as mesmas **unidades** ou são de **distribuições diferentes**;\n",
    "* As soluções para esses problemas são:\n",
    " * Transformar cada valor em um **score padrão**: que é o número desvio padrão a partir da média, \"Coeficiente de correlação produto-momento de Pearson\";\n",
    " * Transformar cada valor em **rank**: que é uma lista organizado pelo index de cada valor, “Coeficiente de correlação Spearman rank\".\n",
    "* Se X é uma série de n valores, então o score padrão(Z) é:\n",
    "\\begin{align}\n",
    "z_i & = \\frac{x_i-\\mu}{\\sigma} \\\\\n",
    "\\end{align}\n",
    "Onde:\n",
    " * $z_i$ é score padrão;\n",
    " * $x_i$ valor da variável;\n",
    " * $\\mu$ é a média;\n",
    " * $\\sigma$ é o desvio padrão.\n",
    "* O Score padrão (Z) é admensional;"
   ]
  },
  {
   "cell_type": "code",
   "execution_count": 10,
   "metadata": {},
   "outputs": [
    {
     "data": {
      "text/plain": [
       "Date\n",
       "1981-07-31   -0.784280\n",
       "1981-08-31   -0.854434\n",
       "1981-09-30   -0.878344\n",
       "1981-10-31   -0.638912\n",
       "1981-11-30   -0.163587\n",
       "Freq: M, Name: 66231000, dtype: float64"
      ]
     },
     "execution_count": 10,
     "metadata": {},
     "output_type": "execute_result"
    }
   ],
   "source": [
    "df_zscore = (dados_vazao - dados_vazao.mean())/dados_vazao.std()\n",
    "df_zscore.head(5)"
   ]
  },
  {
   "cell_type": "markdown",
   "metadata": {},
   "source": [
    "## 7.4  Covariância"
   ]
  },
  {
   "cell_type": "markdown",
   "metadata": {},
   "source": [
    "* É uma medida da tendência de duas variáveis variarem juntas. \n",
    "* Se temos duas séries, X e Y, seus desvios a partir da média são:\n",
    "\\begin{align}\n",
    "dx_i & = x_i - \\overline{x}\\\\\n",
    "dy_i & = y_i - \\overline{y}\\\\\n",
    "\\end{align}\n",
    "Onde,\n",
    " * $\\overline{x}$ é a média da amostra X;\n",
    " * $\\overline{y}$ é a média da amostra Y;\n",
    "* X e Y variando juntos, os sinais dos desvios tendem a ter o mesmo sinal;\n",
    "* O produto é positivo quando os desvios tiverem o mesmo sinal e negativos quando tiverem o sinal oposto.\n",
    "* Covariância é a média dos produtos dos desvios;\n",
    "\\begin{align}\n",
    "Cov(X,Y) = \\frac{1}{n} \\sum dx_i dy_i\n",
    "\\end{align}\n",
    "Onde:\n",
    " * $n$ é o tamanho das séries;"
   ]
  },
  {
   "cell_type": "code",
   "execution_count": 11,
   "metadata": {},
   "outputs": [
    {
     "name": "stdout",
     "output_type": "stream",
     "text": [
      "Covariância:  9385.893249911083\n"
     ]
    }
   ],
   "source": [
    "print(\"Covariância: \", dados_chuva.cov(dados_vazao))"
   ]
  },
  {
   "cell_type": "markdown",
   "metadata": {},
   "source": [
    "## 7.5 Correlação de Pearson"
   ]
  },
  {
   "cell_type": "markdown",
   "metadata": {},
   "source": [
    "* Corvariância é muito utilizada, mas é difícil de interpretar;\n",
    "* Um dos problemas é a difecença de unidades;\n",
    "* Para resolver esse problema, divide os desvios pelos desvio padrão;\n",
    "\\begin{align}\n",
    "P_i = \\frac{(x_i - \\overline{x})}{S_X}  \\frac{(y_i - \\overline{y})}{S_Y}\n",
    "\\end{align}\n",
    "\n",
    "Onde $S_X$ e $S_Y$ são os desvios padrão de $X$ e $Y$. A média destes produtos é\n",
    "\\begin{align}\n",
    "\\rho = \\frac{1}{n} \\sum \\rho_i\n",
    "\\end{align}\n",
    "Reescrever $\\rho$ calculando $S_X$ e $S_Y$\n",
    "Onde $S_X$ e $S_Y$ são os desvios padrão de $X$ e $Y$. A média destes produtos é\n",
    "\\begin{align}\n",
    "\\rho = \\frac{Cov(X, Y)}{S_X S_Y}\n",
    "\\end{align}"
   ]
  },
  {
   "cell_type": "code",
   "execution_count": 12,
   "metadata": {},
   "outputs": [
    {
     "name": "stdout",
     "output_type": "stream",
     "text": [
      "Correlação Pearson:  0.6918971778258489\n"
     ]
    }
   ],
   "source": [
    "print(\"Correlação Pearson: \", dados_chuva.corr(dados_vazao))"
   ]
  },
  {
   "cell_type": "markdown",
   "metadata": {},
   "source": [
    "* É fácil de calcular e de interpretar;\n",
    "* Como o score padrão é admensional, o mesmo acontece com a correlação de Pearson;\n",
    "* A correlação de Pearson é sempre entre -1 e +1;\n",
    "* $\\rho$ é positivo a relação é **maior - maior** ou **menor - menor**;\n",
    "* $\\rho$ é negativa a relação é **maior - menor** ou **menor - maior**;\n",
    "* $\\rho$ sendo 0, nenhuma relação;\n",
    "* O valor de $\\rho$ indica a força de correlação, $\\rho$ sendo 1 ou -1, o relacionamento entre as variáveis são perfeitas;"
   ]
  },
  {
   "cell_type": "markdown",
   "metadata": {},
   "source": [
    "## 7.6 Relações não lineares\n",
    "* O coeficiente de correlação de Pearson mede apenas os relacionamentos lineares;\n",
    "* Antes de calcular o coeficente de correlação devemos primeiro olhar o gráfico de dispersão;"
   ]
  },
  {
   "cell_type": "markdown",
   "metadata": {},
   "source": [
    "## 7.7  Correlação Spearman’s rank\n",
    "* A correlação de Pearson não é robusto na presença de outliers;\n",
    "* A correlaçção de Spearman's é uma alternativa para diminuir os efeitos de  outliers e distribuições distorcidas;\n",
    "* A correlação de Spearman, é o índice na amostra classificada;"
   ]
  },
  {
   "cell_type": "code",
   "execution_count": 13,
   "metadata": {},
   "outputs": [
    {
     "name": "stdout",
     "output_type": "stream",
     "text": [
      "Correlação Spearman:  0.7273287810335848\n"
     ]
    }
   ],
   "source": [
    "print(\"Correlação Spearman: \", dados_chuva.corr(dados_vazao, method='spearman'))"
   ]
  },
  {
   "cell_type": "markdown",
   "metadata": {},
   "source": [
    "Causas para a correlação de Spearman ser maior que a de Pearson:\n",
    "* Para relacionamento não linear, a correlação de Pearson tende a subestimar a força da relaçao;\n",
    "* A correlação de Pearson é afetada por outliers;"
   ]
  },
  {
   "cell_type": "code",
   "execution_count": 14,
   "metadata": {},
   "outputs": [
    {
     "name": "stdout",
     "output_type": "stream",
     "text": [
      "Correlação Pearson:  0.7163898405836346\n"
     ]
    }
   ],
   "source": [
    "print(\"Correlação Pearson: \", dados_chuva.corr(np.log(dados_vazao)))"
   ]
  },
  {
   "cell_type": "markdown",
   "metadata": {},
   "source": [
    "* Outra maneira de diminuir o efeito de distribuições distorcidas;"
   ]
  },
  {
   "cell_type": "markdown",
   "metadata": {},
   "source": [
    "## 7.8 Correlação e causalidade"
   ]
  },
  {
   "cell_type": "markdown",
   "metadata": {},
   "source": [
    "* Existe 3 posibilidades para 2 variáveis (A e B) serem correlaciondas:\n",
    " * A causa B;\n",
    " * B causa A;\n",
    " * Outro fator causa A e B;\n",
    "* Como identificar a casualidade:\n",
    " * **Tempo**, a variável que acontece primeiro causa a outra;\n",
    " * **Aleatoriedade**\n",
    " * Em alguns casos, é possível inferir relações causais usando **análise de regressão**;"
   ]
  },
  {
   "cell_type": "code",
   "execution_count": null,
   "metadata": {},
   "outputs": [],
   "source": []
  }
 ],
 "metadata": {
  "kernelspec": {
   "display_name": "Python 3",
   "language": "python",
   "name": "python3"
  },
  "language_info": {
   "codemirror_mode": {
    "name": "ipython",
    "version": 3
   },
   "file_extension": ".py",
   "mimetype": "text/x-python",
   "name": "python",
   "nbconvert_exporter": "python",
   "pygments_lexer": "ipython3",
   "version": "3.6.7"
  }
 },
 "nbformat": 4,
 "nbformat_minor": 2
}

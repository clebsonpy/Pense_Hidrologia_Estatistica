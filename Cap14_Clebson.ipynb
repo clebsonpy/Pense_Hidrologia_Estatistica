{
 "cells": [
  {
   "cell_type": "markdown",
   "metadata": {},
   "source": [
    "# Métodos analíticos - Pense Estatística, 2º Edição.\n",
    "\n",
    "## Universidade Federal de Alagoas - UFAL\n",
    "## Centro de Tecnologia - CTEC\n",
    "## Programa de Pós-Graduação Recursos Hídricos e Saneamento - PPGRHS\n",
    "### Disciplina de Estatística\n",
    "\n",
    "Clebson Farias"
   ]
  },
  {
   "cell_type": "code",
   "execution_count": 4,
   "metadata": {},
   "outputs": [],
   "source": [
    "from __future__ import print_function, division\n",
    "\n",
    "%matplotlib inline\n",
    "\n",
    "import numpy as np\n",
    "import pandas as pd\n",
    "import scipy.stats as stats\n",
    "import matplotlib.pyplot as plt\n",
    "import random\n",
    "\n",
    "import thinkstats2\n",
    "import thinkplot"
   ]
  },
  {
   "cell_type": "markdown",
   "metadata": {},
   "source": [
    "Soluções analíticas que podem ser muito mais rápidas;\n",
    "\n",
    "Integrar métodos computacionais e analíticos para análise exploratória de dados"
   ]
  },
  {
   "cell_type": "markdown",
   "metadata": {},
   "source": [
    "## Distribuições normais"
   ]
  },
  {
   "cell_type": "markdown",
   "metadata": {},
   "source": [
    "Problema da Secção 8.3: Pesos de gorilas em uma reserva;\n",
    "\n",
    "- Média da amostra $\\bar{x}=90$ kg e o desvio padrão da amostra, $S=7,5$ kg. Qual o erro amostral?\n",
    "\n",
    "Usa a distribuição de amostragem para calcular os erros padrão e os intervalos de confiança;\n",
    "\n",
    "- O desvio padrão da distribuição da amostra é o erro padrão da estimativa;\n",
    "- O intervalo entre o 5º e o 95º percentil da distribuição amostral é de 90% de confiança;\n",
    "\n",
    "Propriedades da distribuição normal (são fechadas):\n",
    "\n",
    "\\begin{equation}\n",
    "    X \\sim N(\\mu, \\sigma^2)\n",
    "\\end{equation}\n",
    "\n",
    "- Transformação Linear:\n",
    "\\begin{equation}\n",
    "    X' = a·X + b\n",
    "\\end{equation}\n",
    "\n",
    "Se X' estiver na mesma família que X;\n",
    "\n",
    "\\begin{equation}\n",
    "    X \\sim N(a\\mu + b, a^2\\sigma^2)\n",
    "\\end{equation}\n",
    "\n",
    "\n",
    "- Adição: \n",
    "\\begin{equation}\n",
    "    Z = X +  Y\n",
    "\\end{equation}\n",
    "\n",
    "\\begin{equation}\n",
    "    X \\sim N(\\mu X, \\sigma X^2)\n",
    "\\end{equation}\n",
    "\n",
    "\\begin{equation}\n",
    "    Y \\sim N(\\mu Y, \\sigma Y^2)\n",
    "\\end{equation}\n",
    "\n",
    "\\begin{equation}\n",
    "    Z \\sim N(\\mu X \\mu Y, \\sigma X^2 \\sigma Y^2)\n",
    "\\end{equation}"
   ]
  },
  {
   "cell_type": "markdown",
   "metadata": {},
   "source": [
    "## Distribuições de amostras\n"
   ]
  },
  {
   "cell_type": "markdown",
   "metadata": {},
   "source": [
    "Distribuição de pesos (X) dos gorilas:\n",
    "\\begin{equation}\n",
    "    X \\sim N(\\mu, \\sigma^2)\n",
    "\\end{equation}\n",
    "\n",
    "Ao pesar n gorilas:\n",
    "\\begin{equation}\n",
    "    Y \\sim N(n\\mu, n\\sigma^2)\n",
    "\\end{equation}\n",
    "\n",
    "\\begin{equation}\n",
    "    Z \\sim N(\\mu, \\sigma^2/n)\n",
    "\\end{equation}\n",
    "\n",
    "- $\\bar{x}$ é uma estimativa imparcial de $\\mu$;\n",
    "\n",
    "- A variância da distribuição de amostragem é $\\sigma^2/n$"
   ]
  },
  {
   "cell_type": "code",
   "execution_count": 5,
   "metadata": {},
   "outputs": [
    {
     "data": {
      "text/plain": [
       "85.88786593262132"
      ]
     },
     "execution_count": 5,
     "metadata": {},
     "output_type": "execute_result"
    }
   ],
   "source": [
    "thinkstats2.EvalNormalCdfInverse(0.05, mu=90, sigma=2.5)"
   ]
  },
  {
   "cell_type": "code",
   "execution_count": 6,
   "metadata": {},
   "outputs": [
    {
     "data": {
      "text/plain": [
       "94.11213406737868"
      ]
     },
     "execution_count": 6,
     "metadata": {},
     "output_type": "execute_result"
    }
   ],
   "source": [
    "thinkstats2.EvalNormalCdfInverse(0.95, mu=90, sigma=2.5)"
   ]
  },
  {
   "cell_type": "markdown",
   "metadata": {},
   "source": [
    "## Representação de distribuições normais\n"
   ]
  },
  {
   "cell_type": "markdown",
   "metadata": {},
   "source": [
    "Implementação de um Objeto para distribuição Normal;"
   ]
  },
  {
   "cell_type": "markdown",
   "metadata": {},
   "source": [
    "## Teorema do limite central\n"
   ]
  },
  {
   "cell_type": "markdown",
   "metadata": {},
   "source": [
    "Valores extraídos de uma normal, a distribuição da soma é uma normal;\n",
    "\n",
    "A maioria das distribuições não apresenta essa propriedade;\n",
    "\n",
    "Com o aumento de X (xi são valores de outras distribuições), a distribuição soma converge para à normal;\n",
    "\n",
    "Obs:\n",
    "\n",
    "- Os valores devem ser desenhados independentemente;\n",
    "\n",
    "- Os valores devem vir da mesma distribuição;\n",
    "\n",
    "- A distribuição deve ser com média e desvio finitos;\n",
    "\n",
    "- A taxa de convergência depende da assimetria da distribuição;"
   ]
  }
 ],
 "metadata": {
  "kernelspec": {
   "display_name": "Python 3",
   "language": "python",
   "name": "python3"
  },
  "language_info": {
   "codemirror_mode": {
    "name": "ipython",
    "version": 3
   },
   "file_extension": ".py",
   "mimetype": "text/x-python",
   "name": "python",
   "nbconvert_exporter": "python",
   "pygments_lexer": "ipython3",
   "version": "3.6.7"
  }
 },
 "nbformat": 4,
 "nbformat_minor": 2
}

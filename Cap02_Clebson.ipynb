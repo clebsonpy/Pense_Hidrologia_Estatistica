{
 "cells": [
  {
   "cell_type": "markdown",
   "metadata": {},
   "source": [
    "# Distribuições(Cap2) - Pense Estatística, 2º Edição.\n",
    "\n",
    "## Universidade Federal de Alagoas - UFAL\n",
    "## Centro de Tecnologia - CTEC\n",
    "## Programa de Pós-Graduação Recursos Hídricos e Saneamento - PPGRHS\n",
    "### Disciplina de Estatística\n",
    "\n",
    "Clebson Farias"
   ]
  },
  {
   "cell_type": "code",
   "execution_count": 7,
   "metadata": {},
   "outputs": [],
   "source": [
    "from __future__ import print_function, division\n",
    "\n",
    "%matplotlib inline\n",
    "\n",
    "import numpy as np\n",
    "import pandas as pd\n",
    "\n",
    "import thinkstats2\n",
    "import thinkplot"
   ]
  },
  {
   "cell_type": "code",
   "execution_count": 8,
   "metadata": {},
   "outputs": [],
   "source": [
    "dados = pd.read_csv(\"dados_com_evap_manso.csv\", index_col=0, parse_dates=True)\n",
    "date_start = pd.to_datetime(\"01/01/1982\", dayfirst=True)\n",
    "date_end = pd.to_datetime(\"31/12/1986\", dayfirst=True)\n",
    "dados_ = dados.loc[date_start:date_end]"
   ]
  },
  {
   "cell_type": "markdown",
   "metadata": {},
   "source": [
    "## Histogramas"
   ]
  },
  {
   "cell_type": "markdown",
   "metadata": {},
   "source": [
    "Informar os valores que aparecem no conjunto de dados e quantas vezes cada valor aparece;\n",
    "\n",
    "- Histograma: gráfico que mostra a frequência (número de vezes que o valor aparece) de cada valor;\n"
   ]
  },
  {
   "cell_type": "markdown",
   "metadata": {},
   "source": [
    "## Representação de histogramas"
   ]
  },
  {
   "cell_type": "code",
   "execution_count": 9,
   "metadata": {},
   "outputs": [
    {
     "data": {
      "text/plain": [
       "Hist({84.0: 49, 86.0: 44, 78.0: 37, 91.0: 36, 77.0: 35, 88.0: 32, 80.0: 31, 81.0: 29, 92.0: 27, 79.0: 26, 93.0: 24, 87.0: 24, 90.0: 23, 85.0: 22, 82.0: 22, 98.0: 22, 101.0: 22, 97.0: 22, 107.0: 21, 89.0: 20, 103.0: 20, 83.0: 19, 102.0: 18, 108.0: 18, 95.0: 17, 99.0: 16, 111.0: 16, 106.0: 16, 94.0: 15, 105.0: 15, 121.0: 15, 133.0: 14, 114.0: 14, 109.0: 13, 96.0: 13, 120.0: 13, 192.0: 12, 116.0: 12, 236.0: 12, 110.0: 12, 100.0: 11, 76.0: 11, 73.0: 11, 140.0: 10, 122.0: 9, 125.0: 9, 75.0: 9, 128.0: 9, 118.0: 9, 104.0: 9, 222.0: 9, 123.0: 8, 257.0: 8, 159.0: 8, 113.0: 8, 146.0: 8, 119.0: 8, 262.0: 7, 198.0: 7, 112.0: 7, 131.0: 7, 156.0: 7, 181.0: 7, 167.0: 7, 299.0: 7, 205.0: 7, 115.0: 7, 227.0: 6, 306.0: 6, 71.0: 6, 270.0: 6, 217.0: 6, 189.0: 6, 72.0: 6, 201.0: 6, 136.0: 6, 187.0: 6, 129.0: 6, 247.0: 6, 175.0: 6, 135.0: 6, 240.0: 5, 147.0: 5, 190.0: 5, 382.0: 5, 166.0: 5, 138.0: 5, 162.0: 5, 193.0: 5, 163.0: 5, 117.0: 5, 137.0: 5, 195.0: 5, 311.0: 5, 157.0: 5, 188.0: 5, 266.0: 5, 224.0: 5, 318.0: 4, 332.0: 4, 238.0: 4, 242.0: 4, 211.0: 4, 377.0: 4, 210.0: 4, 183.0: 4, 124.0: 4, 178.0: 4, 289.0: 4, 219.0: 4, 132.0: 4, 150.0: 4, 371.0: 4, 338.0: 4, 307.0: 4, 161.0: 4, 177.0: 4, 260.0: 4, 153.0: 4, 185.0: 4, 174.0: 4, 284.0: 4, 322.0: 4, 203.0: 4, 286.0: 4, 259.0: 4, 220.0: 4, 194.0: 4, 226.0: 4, 233.0: 4, 155.0: 4, 126.0: 4, 196.0: 4, 149.0: 4, 164.0: 4, 143.0: 4, 469.0: 3, 148.0: 3, 208.0: 3, 309.0: 3, 169.0: 3, 297.0: 3, 343.0: 3, 425.0: 3, 288.0: 3, 254.0: 3, 316.0: 3, 274.0: 3, 353.0: 3, 182.0: 3, 144.0: 3, 127.0: 3, 280.0: 3, 276.0: 3, 151.0: 3, 200.0: 3, 130.0: 3, 223.0: 3, 152.0: 3, 375.0: 3, 244.0: 3, 158.0: 3, 215.0: 3, 250.0: 3, 134.0: 3, 184.0: 3, 249.0: 3, 186.0: 3, 172.0: 3, 139.0: 3, 273.0: 3, 202.0: 3, 301.0: 3, 362.0: 3, 212.0: 3, 370.0: 2, 214.0: 2, 400.0: 2, 303.0: 2, 472.0: 2, 456.0: 2, 564.0: 2, 392.0: 2, 320.0: 2, 229.0: 2, 430.0: 2, 145.0: 2, 74.0: 2, 287.0: 2, 398.0: 2, 331.0: 2, 176.0: 2, 232.0: 2, 304.0: 2, 252.0: 2, 864.0: 2, 204.0: 2, 396.0: 2, 264.0: 2, 168.0: 2, 272.0: 2, 329.0: 2, 355.0: 2, 365.0: 2, 180.0: 2, 367.0: 2, 336.0: 2, 475.0: 2, 351.0: 2, 291.0: 2, 404.0: 2, 313.0: 2, 526.0: 2, 437.0: 2, 334.0: 2, 243.0: 2, 191.0: 2, 271.0: 2, 282.0: 2, 443.0: 2, 347.0: 2, 706.0: 2, 285.0: 2, 231.0: 2, 253.0: 2, 508.0: 2, 305.0: 2, 258.0: 2, 170.0: 2, 251.0: 2, 582.0: 2, 327.0: 2, 466.0: 2, 279.0: 2, 607.0: 2, 207.0: 2, 213.0: 2, 173.0: 2, 255.0: 2, 380.0: 2, 357.0: 2, 246.0: 2, 662.0: 2, 401.0: 2, 354.0: 2, 550.0: 2, 235.0: 2, 300.0: 2, 267.0: 1, 453.0: 1, 1517.0: 1, 614.0: 1, 519.0: 1, 1126.0: 1, 628.0: 1, 598.0: 1, 281.0: 1, 341.0: 1, 230.0: 1, 500.0: 1, 364.0: 1, 218.0: 1, 641.0: 1, 523.0: 1, 637.0: 1, 293.0: 1, 777.0: 1, 335.0: 1, 531.0: 1, 520.0: 1, 369.0: 1, 666.0: 1, 283.0: 1, 537.0: 1, 294.0: 1, 406.0: 1, 490.0: 1, 618.0: 1, 834.0: 1, 248.0: 1, 411.0: 1, 495.0: 1, 576.0: 1, 720.0: 1, 451.0: 1, 265.0: 1, 471.0: 1, 640.0: 1, 544.0: 1, 592.0: 1, 429.0: 1, 379.0: 1, 263.0: 1, 349.0: 1, 643.0: 1, 574.0: 1, 583.0: 1, 278.0: 1, 485.0: 1, 686.0: 1, 514.0: 1, 308.0: 1, 446.0: 1, 470.0: 1, 418.0: 1, 548.0: 1, 1034.0: 1, 298.0: 1, 350.0: 1, 426.0: 1, 410.0: 1, 462.0: 1, 482.0: 1, 171.0: 1, 324.0: 1, 206.0: 1, 356.0: 1, 762.0: 1, 590.0: 1, 342.0: 1, 477.0: 1, 692.0: 1, 339.0: 1, 361.0: 1, 359.0: 1, 698.0: 1, 1412.0: 1, 655.0: 1, 302.0: 1, 1157.0: 1, 290.0: 1, 1037.0: 1, 751.0: 1, 697.0: 1, 555.0: 1, 465.0: 1, 391.0: 1, 388.0: 1, 481.0: 1, 884.0: 1, 326.0: 1, 314.0: 1, 199.0: 1, 402.0: 1, 494.0: 1, 916.0: 1, 310.0: 1, 989.0: 1, 1118.0: 1, 540.0: 1, 345.0: 1, 823.0: 1, 473.0: 1, 323.0: 1, 791.0: 1, 578.0: 1, 754.0: 1, 325.0: 1, 363.0: 1, 597.0: 1, 431.0: 1, 268.0: 1, 256.0: 1, 672.0: 1, 352.0: 1, 828.0: 1, 432.0: 1, 366.0: 1, 420.0: 1, 328.0: 1, 1193.0: 1, 478.0: 1, 780.0: 1, 468.0: 1, 588.0: 1, 360.0: 1, 448.0: 1, 154.0: 1, 141.0: 1, 1088.0: 1, 492.0: 1, 819.0: 1, 269.0: 1, 535.0: 1, 962.0: 1, 386.0: 1, 348.0: 1, 441.0: 1, 1013.0: 1, 568.0: 1, 616.0: 1, 611.0: 1, 585.0: 1, 67.0: 1, 68.0: 1, 340.0: 1, 296.0: 1, 557.0: 1}, 'Manso_Nat')"
      ]
     },
     "execution_count": 9,
     "metadata": {},
     "output_type": "execute_result"
    }
   ],
   "source": [
    "hist = thinkstats2.Hist(dados_.MANSO, label='Manso_Nat')\n",
    "hist"
   ]
  },
  {
   "cell_type": "code",
   "execution_count": 10,
   "metadata": {},
   "outputs": [
    {
     "data": {
      "text/plain": [
       "49"
      ]
     },
     "execution_count": 10,
     "metadata": {},
     "output_type": "execute_result"
    }
   ],
   "source": [
    "hist.Freq(84)"
   ]
  },
  {
   "cell_type": "code",
   "execution_count": 11,
   "metadata": {},
   "outputs": [
    {
     "data": {
      "text/plain": [
       "44"
      ]
     },
     "execution_count": 11,
     "metadata": {},
     "output_type": "execute_result"
    }
   ],
   "source": [
    "hist[86]"
   ]
  },
  {
   "cell_type": "code",
   "execution_count": 12,
   "metadata": {},
   "outputs": [
    {
     "data": {
      "image/png": "[encoded data removed]",
      "text/plain": [
       "<Figure size 432x288 with 1 Axes>"
      ]
     },
     "metadata": {
      "needs_background": "light"
     },
     "output_type": "display_data"
    }
   ],
   "source": [
    "thinkplot.Hist(hist)\n",
    "thinkplot.Config(xlabel='value', ylabel='frequency')"
   ]
  },
  {
   "cell_type": "markdown",
   "metadata": {},
   "source": [
    "## Outliers"
   ]
  },
  {
   "cell_type": "markdown",
   "metadata": {},
   "source": [
    "Histograma:\n",
    "    \n",
    "- Fácil identificar os valores mais comuns e a forma da distribuição;\n",
    "\n",
    "- Os valores raros nem sempre são visíveis;\n",
    "\n",
    "Outliers:\n",
    "\n",
    "- Erros de medição e registo;\n",
    "\n",
    "- Relatórios precisos de eventos raros;"
   ]
  },
  {
   "cell_type": "markdown",
   "metadata": {},
   "source": [
    "**Menores Vazões**"
   ]
  },
  {
   "cell_type": "code",
   "execution_count": 13,
   "metadata": {},
   "outputs": [
    {
     "name": "stdout",
     "output_type": "stream",
     "text": [
      "67.0 1\n",
      "68.0 1\n",
      "71.0 6\n",
      "72.0 6\n",
      "73.0 11\n",
      "74.0 2\n",
      "75.0 9\n",
      "76.0 11\n",
      "77.0 35\n",
      "78.0 37\n"
     ]
    }
   ],
   "source": [
    "for vazao, freq in hist.Smallest(10):\n",
    "    print(vazao, freq)"
   ]
  },
  {
   "cell_type": "markdown",
   "metadata": {},
   "source": [
    "**Maiores Vazões**"
   ]
  },
  {
   "cell_type": "code",
   "execution_count": 14,
   "metadata": {},
   "outputs": [
    {
     "name": "stdout",
     "output_type": "stream",
     "text": [
      "1517.0 1\n",
      "1412.0 1\n",
      "1193.0 1\n",
      "1157.0 1\n",
      "1126.0 1\n",
      "1118.0 1\n",
      "1088.0 1\n",
      "1037.0 1\n",
      "1034.0 1\n",
      "1013.0 1\n"
     ]
    }
   ],
   "source": [
    "for vazao, freq in hist.Largest(10):\n",
    "    print(vazao, freq)"
   ]
  },
  {
   "cell_type": "markdown",
   "metadata": {},
   "source": [
    "## Resumindo Distribuições"
   ]
  },
  {
   "cell_type": "markdown",
   "metadata": {},
   "source": [
    "Resumir a distribuição com algumas estatísticas descritivas;\n",
    "\n",
    "Algumas das características que podemos querer relatar são:\n",
    "\n",
    "- **Tendência central**: Os valores tendem a se agrupar em torno de um determinado ponto?\n",
    "\n",
    "- **Modas**: Existe mais de um cluster?\n",
    "\n",
    "- **Propagação**: Quanta variabilidade existe nos valores?\n",
    "\n",
    "- **Caudas**: Com que rapidez as probabilidades diminuem à medida que nos afastamos das modas?\n",
    "\n",
    "- **Outliers**: Existem valores extremos longe dos modas?\n",
    "\n",
    "A média é o resumo estatístico mais comum, que se destina a descrever a tendência central da distribuição.\n",
    "\n",
    "\\begin{equation}\n",
    "    \\bar{x} = \\frac{1}{n} \\sum_i X_i\n",
    "\\end{equation}\n",
    "\n",
    "A \"**mean**\" de uma amostra é o resumo estatístico calculado com a fórmula anterior.\n",
    "\n",
    "Uma \"**average**\" é uma dos várias resumos estatísticos que você pode escolher para descrever uma tendência central."
   ]
  },
  {
   "cell_type": "markdown",
   "metadata": {},
   "source": [
    "## Variância"
   ]
  },
  {
   "cell_type": "markdown",
   "metadata": {},
   "source": [
    "A variância é um resumo estatístico destinada a descrever a variabilidade ou o spread de uma distribuição;\n",
    "\n",
    "\\begin{equation}\n",
    "    S^2 = \\frac{1}{n} \\sum_i (x_i - \\bar{x})^2\n",
    "\\end{equation}\n",
    "\n",
    "A raiz quadrada da variância, S, é o desvio padrão."
   ]
  },
  {
   "cell_type": "code",
   "execution_count": 15,
   "metadata": {},
   "outputs": [
    {
     "data": {
      "text/plain": [
       "185.23274917853232"
      ]
     },
     "execution_count": 15,
     "metadata": {},
     "output_type": "execute_result"
    }
   ],
   "source": [
    "mean = dados_.MANSO.mean()\n",
    "mean"
   ]
  },
  {
   "cell_type": "code",
   "execution_count": 16,
   "metadata": {},
   "outputs": [
    {
     "data": {
      "text/plain": [
       "24011.350181698144"
      ]
     },
     "execution_count": 16,
     "metadata": {},
     "output_type": "execute_result"
    }
   ],
   "source": [
    "var = dados_.MANSO.var()\n",
    "var"
   ]
  },
  {
   "cell_type": "code",
   "execution_count": 17,
   "metadata": {},
   "outputs": [
    {
     "data": {
      "text/plain": [
       "154.95596207212597"
      ]
     },
     "execution_count": 17,
     "metadata": {},
     "output_type": "execute_result"
    }
   ],
   "source": [
    "std = dados_.MANSO.std()\n",
    "std"
   ]
  },
  {
   "cell_type": "markdown",
   "metadata": {},
   "source": [
    "## Efeito do tamanho"
   ]
  },
  {
   "cell_type": "code",
   "execution_count": null,
   "metadata": {},
   "outputs": [],
   "source": []
  }
 ],
 "metadata": {
  "kernelspec": {
   "display_name": "Python 3",
   "language": "python",
   "name": "python3"
  },
  "language_info": {
   "codemirror_mode": {
    "name": "ipython",
    "version": 3
   },
   "file_extension": ".py",
   "mimetype": "text/x-python",
   "name": "python",
   "nbconvert_exporter": "python",
   "pygments_lexer": "ipython3",
   "version": "3.6.7"
  }
 },
 "nbformat": 4,
 "nbformat_minor": 2
}
